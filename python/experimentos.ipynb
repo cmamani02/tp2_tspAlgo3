{
 "cells": [
  {
   "cell_type": "code",
   "execution_count": 49,
   "metadata": {},
   "outputs": [],
   "source": [
    "import math, subprocess\n",
    "import pandas as pd\n",
    "import numpy as np\n",
    "from IPython.display import display, clear_output"
   ]
  },
  {
   "cell_type": "markdown",
   "metadata": {},
   "source": [
    "A continuación leemos los datasets en dataframes de Pandas."
   ]
  },
  {
   "cell_type": "code",
   "execution_count": 50,
   "metadata": {},
   "outputs": [],
   "source": [
    "def leer_instancia(path_instancia):\n",
    "    with open(path_instancia, \"r\") as f:\n",
    "        return f.read();\n",
    "\n",
    "df_a280 = pd.read_csv(\"tsp_instances_txt/indice_a280.csv\");\n",
    "df_bayg29 = pd.read_csv(\"tsp_instances_txt/indice_bayg29.csv\");\n",
    "df_berlin52 = pd.read_csv(\"tsp_instances_txt/indice_berlin52.csv\");\n",
    "df_ramdon = pd.read_csv(\"tsp_random_txt/indice_random.csv\"); \n",
    "df_ramdon_reducido = pd.read_csv(\"tsp_random_txt/indice_random_reducido.csv\"); \n",
    " \n"
   ]
  },
  {
   "cell_type": "code",
   "execution_count": 58,
   "metadata": {
    "tags": []
   },
   "outputs": [],
   "source": [
    "def correr_experimento(metodo, mem_size, porc_vecindad, iteraciones, archivo_instancia):\n",
    "    # Leer archivo de la instancia.\n",
    "    instancia = leer_instancia(archivo_instancia)\n",
    "    \n",
    "    # Crear proceso para ejecutar el codigo.\n",
    "    process = subprocess.Popen([\"../../tp2_tspAlgo3/tp2\", metodo, mem_size, porc_vecindad, iteraciones], stderr=subprocess.PIPE, stdout=subprocess.PIPE, stdin=subprocess.PIPE, universal_newlines = True)\n",
    "\n",
    "    # Poner la instancia en la entrada estandar.\n",
    "    process.stdin.write(instancia)\n",
    "    process.stdin.flush()\n",
    "\n",
    "    # Correr experimento.\n",
    "    exit_code = process.wait()\n",
    "\n",
    "    # Verificar que el proceso no fallo.\n",
    "    if exit_code != 0: raise(F\"Hubo un error en la experimentacion para el algoritmo: {algoritmo} con la instancia {archivo_instancia}.\")\n",
    "    # Leer salida de STDERR con los tiempos de ejecucion de cada metodo.\n",
    "    tiempo_de_ejecucion = float(process.stderr.read());\n",
    "    costo_ciclo = int(process.stdout.read());\n",
    "    print(costo_ciclo)\n",
    "    process.stdin.close();\n",
    "    process.stdout.close();\n",
    "    process.stderr.close();\n",
    "    instancia = (tiempo_de_ejecucion, costo_ciclo)\n",
    "    return instancia;"
   ]
  },
  {
   "cell_type": "code",
   "execution_count": 55,
   "metadata": {},
   "outputs": [],
   "source": [
    "experimentos = [];"
   ]
  },
  {
   "cell_type": "markdown",
   "metadata": {},
   "source": [
    "# Experimento 1\n",
    "Experimentos para el metodo TSE-AGM, variando el tamaño de la memoria"
   ]
  },
  {
   "cell_type": "code",
   "execution_count": 56,
   "metadata": {},
   "outputs": [],
   "source": [
    "#for n in range(0, 10):\n",
    "#    fila_n = df_a280.iloc[n];\n",
    "#    experimentos.append([fila_n[\"dataset\"], n, fila_n[\"m\"], \"TSE-AGM\", fila_n[\"archivo\"]]);\n",
    "\n",
    "## varia tamaño de vecindad:\n",
    "fila_n = df_a280.iloc[0];\n",
    "memSize = 20\n",
    "\n",
    "#porcentajeVecindad\n",
    "iteraciones = 1000\n",
    "rango_porcentajes = np.array(np.arange(10, 60, 10)) \n",
    "for p in rango_porcentajes: # 15 elementos\n",
    "    experimentos.append([fila_n[\"dataset\"], \"variando-vecinos\", fila_n[\"n\"], fila_n[\"m\"], \"TSE-AGM\", memSize, p, iteraciones, fila_n[\"archivo\"]]);\n",
    "    \n",
    "## varia tamaño de memoria:\n",
    "porcentaje_vecindad = 10\n",
    "rango_memoria = np.array(np.arange(10, 60, 10))\n",
    "for t in rango_memoria : # 15 elementos\n",
    "    experimentos.append([fila_n[\"dataset\"], \"variando-memoria\", fila_n[\"n\"], fila_n[\"m\"], \"TSE-AGM\", t, porcentaje_vecindad, iteraciones, fila_n[\"archivo\"]]);\n",
    "\n",
    "## varia cantidad de iteraciones:\n",
    "rango_iteraciones = np.array(np.arange(10, 1000, 10)) \n",
    "for i in rango_iteraciones: # 20 elementos\n",
    "    experimentos.append([fila_n[\"dataset\"], \"variando-iteraciones\", fila_n[\"n\"], fila_n[\"m\"], \"TSE-AGM\", memSize, porcentaje_vecindad, i, fila_n[\"archivo\"]]);\n",
    "\n"
   ]
  },
  {
   "cell_type": "markdown",
   "metadata": {},
   "source": [
    "# Experimento 2: BERLIN52\n",
    "Experimentos para el metodo TSE-AGM, variando el tamaño de la vecindad, memoria, iteraciones (por separado)"
   ]
  },
  {
   "cell_type": "code",
   "execution_count": 34,
   "metadata": {},
   "outputs": [],
   "source": [
    "#contenido de df_berlin52: dataset,n,m,archivo\n",
    "\n",
    "## varia tamaño de vecindad:\n",
    "fila_n = df_berlin52.iloc[0];\n",
    "memSize = 20\n",
    "#porcentajeVecindad\n",
    "iteraciones = 1000\n",
    "rango = np.array(np.arange(10, 51, 10))\n",
    "for p in [1,2,3,4,5,6,7,8,9,10,20,30,40,50,60]: # 15 elementos\n",
    "    experimentos.append([fila_n[\"dataset\"], \"variando-vecinos\", fila_n[\"n\"], fila_n[\"m\"], \"TSE-AGM\", memSize, p, iteraciones, fila_n[\"archivo\"]]);\n",
    "    \n",
    "## varia tamaño de memoria:\n",
    "porcentaje_vecindad = 10\n",
    "for t in [1,5,10,20,30,40,50,100,150,200,300,400,500,600,700]: # 15 elementos\n",
    "    experimentos.append([fila_n[\"dataset\"], \"variando-memoria\", fila_n[\"n\"], fila_n[\"m\"], \"TSE-AGM\", t, porcentaje_vecindad, iteraciones, fila_n[\"archivo\"]]);\n",
    "\n",
    "## varia cantidad de iteraciones:\n",
    "for i in [1,5,10,20,30,40,50,70,80,90,100,200,300,400,500,600,700,800,900,1000]: # 20 elementos\n",
    "    experimentos.append([fila_n[\"dataset\"], \"variando-iteraciones\", fila_n[\"n\"], fila_n[\"m\"], \"TSE-AGM\", memSize, porcentaje_vecindad, i, fila_n[\"archivo\"]]);\n",
    "\n"
   ]
  },
  {
   "cell_type": "markdown",
   "metadata": {},
   "source": [
    "# Experimento 3: Comparacion Calidad\n",
    "### Heuristicas AGM-VMC-HI\n"
   ]
  },
  {
   "cell_type": "code",
   "execution_count": null,
   "metadata": {},
   "outputs": [],
   "source": [
    "experimentos = [];\n",
    "nombre_experimento = \"comparacion-calidad-1\"\n",
    "memo_t = 0\n",
    "porcentaje_vecindad = 0\n",
    "iteraciones = 0\n",
    "n = len(df_ramdon)\n",
    "#ahmh\n",
    "for i in range(n):\n",
    "    fila_i = df_ramdon.iloc[i];\n",
    "    experimentos.append([fila_i[\"dataset\"], F\"random-AGMH-{i}\", fila_i[\"n\"], fila_i[\"m\"], \"AGMH\", memo_t, porcentaje_vecindad, iteraciones, fila_i[\"archivo\"]]);\n",
    "for i in range(n):\n",
    "    fila_i = df_ramdon.iloc[i];\n",
    "    experimentos.append([fila_i[\"dataset\"], F\"random-VMC-{i}\", fila_i[\"n\"], fila_i[\"m\"], \"VMC\", memo_t, porcentaje_vecindad, iteraciones, fila_i[\"archivo\"]]);\n",
    "for i in range(n):\n",
    "    fila_i = df_ramdon.iloc[i];\n",
    "    experimentos.append([fila_i[\"dataset\"], F\"random-HI-{i}\", fila_i[\"n\"], fila_i[\"m\"], \"HI\", memo_t, porcentaje_vecindad, iteraciones, fila_i[\"archivo\"]]);\n"
   ]
  },
  {
   "cell_type": "markdown",
   "metadata": {},
   "source": [
    "### Meta-Heuristicas TSE-TSC"
   ]
  },
  {
   "cell_type": "code",
   "execution_count": null,
   "metadata": {},
   "outputs": [],
   "source": [
    "experimentos = [];\n",
    "nombre_experimento = \"comparacion-calidad-2\"\n",
    "n = len(df_ramdon_reducido)\n",
    "for i in range(n):\n",
    "    fila_i = df_ramdon_reducido.iloc[i];\n",
    "    rango_porcentajes = np.array(np.arange(10, 50, 10)) \n",
    "    for p in rango_porcentajes:\n",
    "        rango_memoria = np.array(np.arange(20,100, 20))\n",
    "        for t in rango_memoria:\n",
    "            rango_iteraciones = np.array(np.arange(20, 500, 20)) \n",
    "            for i in rango_iteraciones:\n",
    "                experimentos.append([fila_i[\"dataset\"], F\"random-TSE-AGM-{i}\", fila_i[\"n\"], fila_i[\"m\"], \"TSE-AGM\",t,p,i, fila_i[\"archivo\"]]);\n"
   ]
  },
  {
   "cell_type": "code",
   "execution_count": null,
   "metadata": {},
   "outputs": [],
   "source": []
  },
  {
   "cell_type": "markdown",
   "metadata": {
    "tags": []
   },
   "source": [
    "## Ejecutar los experimentos y guardar los resultados en un archivo CSV."
   ]
  },
  {
   "cell_type": "code",
   "execution_count": 57,
   "metadata": {},
   "outputs": [
    {
     "data": {
      "text/plain": [
       "'Experimento: 109/109'"
      ]
     },
     "metadata": {},
     "output_type": "display_data"
    },
    {
     "name": "stdout",
     "output_type": "stream",
     "text": [
      "entre\n",
      "2691\n"
     ]
    }
   ],
   "source": [
    "columnas = [\"dataset\", \"caso\", \"n\", \"m\", \"metodo\", \"memSize\",\"porcentajeVecindad\",\"iteraciones\",\"tiempo\",\"costo\"];\n",
    "filas = [];\n",
    "numero = 1\n",
    "indice = 0\n",
    "#porcentaje_vecindad = 30 #CAMBIO\n",
    "#iteraciones = 30 #CAMBIO\n",
    "T = 1 #5 # Numero de veces que se ejecuta cada experimento (para mayor fidelidad del tiempo).\n",
    "for experimento in experimentos:\n",
    "    # Voy mostrando que experimento se esta ejecutando.\n",
    "    clear_output(wait=True)\n",
    "    display('Experimento: ' + str(numero) + \"/\" + str(len(experimentos)))\n",
    "    numero += 1\n",
    "    \n",
    "    # Ejecutamos el experimento T veces y obtenemos la mediana.\n",
    "    tiempos = []\n",
    "    costo = 0\n",
    "    #parametros: correr_experimento(metodo, mem_size, porc_vecindad, iteraciones, archivo_instancia)\n",
    "    #columnas de experimento[i]: dataset, caso, n, m, metodo, memSize, porcentajeVecindad, iteraciones, archivo\n",
    "    res = correr_experimento(experimento[4],str(experimento[5]),str(experimento[6]), str(experimento[7]),experimento[8]);#CAMBIO \n",
    "    tiempos.append(res[0]);\n",
    "    costo = res[1]\n",
    "    tiempo = np.median(tiempos);\n",
    "    filas.append([indice, experimento[1], experimento[2], experimento[3], experimento[4], experimento[5], experimento[6], experimento[7], tiempo, costo]);\n",
    "    indice += 1\n",
    "df_resultado = pd.DataFrame(filas, columns=columnas);\n",
    "df_resultado.to_csv(F\"resultados/resultado-{nombre_experimento}.csv\", index=False, header=True);\n"
   ]
  },
  {
   "cell_type": "code",
   "execution_count": null,
   "metadata": {},
   "outputs": [],
   "source": []
  },
  {
   "cell_type": "markdown",
   "metadata": {},
   "source": [
    "# Experimentos con valores optimos"
   ]
  },
  {
   "cell_type": "code",
   "execution_count": null,
   "metadata": {},
   "outputs": [],
   "source": [
    "parametro = 0\n",
    "res = 3323\n",
    "fila_n = df_burma14.iloc[0];\n",
    "experimentos.append([fila_n[\"dataset\"], fila_n[\"n\"], fila_n[\"m\"], \"HI\", parametro, parametro, parametro, fila_n[\"archivo\"], res]);"
   ]
  },
  {
   "cell_type": "code",
   "execution_count": null,
   "metadata": {},
   "outputs": [],
   "source": [
    "parametro = 0\n",
    "res = 1610\n",
    "fila_n = df_bayg29.iloc[0];\n",
    "experimentos.append([fila_n[\"dataset\"], fila_n[\"n\"], fila_n[\"m\"], \"HI\", parametro, parametro, parametro, fila_n[\"archivo\"], res]);"
   ]
  },
  {
   "cell_type": "code",
   "execution_count": null,
   "metadata": {},
   "outputs": [],
   "source": [
    "parametro = 0\n",
    "res = 10628\n",
    "fila_n = df_att48.iloc[0];\n",
    "experimentos.append([fila_n[\"dataset\"], fila_n[\"n\"], fila_n[\"m\"], \"HI\", parametro, parametro, parametro, fila_n[\"archivo\"], res]);"
   ]
  },
  {
   "cell_type": "code",
   "execution_count": null,
   "metadata": {},
   "outputs": [],
   "source": [
    "parametro = 0\n",
    "res = 538\n",
    "fila_n = df_eil76.iloc[0];\n",
    "experimentos.append([fila_n[\"dataset\"], fila_n[\"n\"], fila_n[\"m\"], \"HI\", parametro, parametro, parametro, fila_n[\"archivo\"], res]);"
   ]
  },
  {
   "cell_type": "code",
   "execution_count": null,
   "metadata": {},
   "outputs": [],
   "source": [
    "parametro = 0\n",
    "res = 7542\n",
    "fila_n = df_berlin52.iloc[0];\n",
    "experimentos.append([fila_n[\"dataset\"], fila_n[\"n\"], fila_n[\"m\"], \"HI\", parametro, parametro, parametro, fila_n[\"archivo\"], res]);"
   ]
  },
  {
   "cell_type": "code",
   "execution_count": null,
   "metadata": {},
   "outputs": [],
   "source": [
    "parametro = 0\n",
    "res = 55209\n",
    "fila_n = df_gr96.iloc[0];\n",
    "experimentos.append([fila_n[\"dataset\"], fila_n[\"n\"], fila_n[\"m\"], \"HI\", parametro, parametro, parametro, fila_n[\"archivo\"], res]);"
   ]
  },
  {
   "cell_type": "code",
   "execution_count": null,
   "metadata": {},
   "outputs": [],
   "source": [
    "parametro = 0\n",
    "res = 55209\n",
    "fila_n = df_gr96.iloc[0];\n",
    "experimentos.append([fila_n[\"dataset\"], fila_n[\"n\"], fila_n[\"m\"], \"HI\", parametro, parametro, parametro, fila_n[\"archivo\"], res]);"
   ]
  },
  {
   "cell_type": "code",
   "execution_count": null,
   "metadata": {},
   "outputs": [],
   "source": [
    "parametro = 0\n",
    "res = 2579\n",
    "fila_n = df_a280.iloc[0];\n",
    "experimentos.append([fila_n[\"dataset\"], fila_n[\"n\"], fila_n[\"m\"], \"HI\", parametro, parametro, parametro, fila_n[\"archivo\"], res]);"
   ]
  },
  {
   "cell_type": "code",
   "execution_count": null,
   "metadata": {},
   "outputs": [],
   "source": [
    "parametro = 0\n",
    "res = 3323\n",
    "fila_n = df_burma14.iloc[0];\n",
    "experimentos.append([fila_n[\"dataset\"], fila_n[\"n\"], fila_n[\"m\"], \"VMC\", parametro, parametro, parametro, fila_n[\"archivo\"], res]);"
   ]
  },
  {
   "cell_type": "code",
   "execution_count": null,
   "metadata": {},
   "outputs": [],
   "source": [
    "parametro = 0\n",
    "res = 1610\n",
    "fila_n = df_bayg29.iloc[0];\n",
    "experimentos.append([fila_n[\"dataset\"], fila_n[\"n\"], fila_n[\"m\"], \"VMC\", parametro, parametro, parametro, fila_n[\"archivo\"], res]);"
   ]
  },
  {
   "cell_type": "code",
   "execution_count": null,
   "metadata": {},
   "outputs": [],
   "source": [
    "parametro = 0\n",
    "res = 10628\n",
    "fila_n = df_att48.iloc[0];\n",
    "experimentos.append([fila_n[\"dataset\"], fila_n[\"n\"], fila_n[\"m\"], \"VMC\", parametro, parametro, parametro, fila_n[\"archivo\"], res]);"
   ]
  },
  {
   "cell_type": "code",
   "execution_count": null,
   "metadata": {},
   "outputs": [],
   "source": [
    "parametro = 0\n",
    "res = 7542\n",
    "fila_n = df_berlin52.iloc[0];\n",
    "experimentos.append([fila_n[\"dataset\"], fila_n[\"n\"], fila_n[\"m\"], \"VMC\", parametro, parametro, parametro, fila_n[\"archivo\"], res]);"
   ]
  },
  {
   "cell_type": "code",
   "execution_count": null,
   "metadata": {},
   "outputs": [],
   "source": [
    "parametro = 0\n",
    "res = 55209\n",
    "fila_n = df_gr96.iloc[0];\n",
    "experimentos.append([fila_n[\"dataset\"], fila_n[\"n\"], fila_n[\"m\"], \"VMC\", parametro, parametro, parametro, fila_n[\"archivo\"], res]);"
   ]
  },
  {
   "cell_type": "code",
   "execution_count": null,
   "metadata": {},
   "outputs": [],
   "source": [
    "parametro = 0\n",
    "res = 538\n",
    "fila_n = df_eil76.iloc[0];\n",
    "experimentos.append([fila_n[\"dataset\"], fila_n[\"n\"], fila_n[\"m\"], \"VMC\", parametro, parametro, parametro, fila_n[\"archivo\"], res]);"
   ]
  },
  {
   "cell_type": "code",
   "execution_count": null,
   "metadata": {},
   "outputs": [],
   "source": [
    "parametro = 0\n",
    "res = 118282\n",
    "fila_n = df_bier127.iloc[0];\n",
    "experimentos.append([fila_n[\"dataset\"], fila_n[\"n\"], fila_n[\"m\"], \"VMC\", parametro, parametro, parametro, fila_n[\"archivo\"], res]);"
   ]
  },
  {
   "cell_type": "code",
   "execution_count": null,
   "metadata": {},
   "outputs": [],
   "source": [
    "parametro = 0\n",
    "res = 2579\n",
    "fila_n = df_a280.iloc[0];\n",
    "experimentos.append([fila_n[\"dataset\"], fila_n[\"n\"], fila_n[\"m\"], \"VMC\", parametro, parametro, parametro, fila_n[\"archivo\"], res]);"
   ]
  },
  {
   "cell_type": "code",
   "execution_count": null,
   "metadata": {},
   "outputs": [],
   "source": [
    "parametro = 0\n",
    "res = 3323\n",
    "fila_n = df_burma14.iloc[0];\n",
    "experimentos.append([fila_n[\"dataset\"], fila_n[\"n\"], fila_n[\"m\"], \"AGMH\", parametro, parametro, parametro, fila_n[\"archivo\"], res]);"
   ]
  },
  {
   "cell_type": "code",
   "execution_count": null,
   "metadata": {},
   "outputs": [],
   "source": [
    "parametro = 0\n",
    "res = 1610\n",
    "fila_n = df_bayg29.iloc[0];\n",
    "experimentos.append([fila_n[\"dataset\"], fila_n[\"n\"], fila_n[\"m\"], \"AGMH\", parametro, parametro, parametro, fila_n[\"archivo\"], res]);"
   ]
  },
  {
   "cell_type": "code",
   "execution_count": null,
   "metadata": {},
   "outputs": [],
   "source": [
    "parametro = 0\n",
    "res = 10628\n",
    "fila_n = df_att48.iloc[0];\n",
    "experimentos.append([fila_n[\"dataset\"], fila_n[\"n\"], fila_n[\"m\"], \"AGMH\", parametro, parametro, parametro, fila_n[\"archivo\"], res]);"
   ]
  },
  {
   "cell_type": "code",
   "execution_count": null,
   "metadata": {},
   "outputs": [],
   "source": [
    "parametro = 0\n",
    "res = 7542\n",
    "fila_n = df_berlin52.iloc[0];\n",
    "experimentos.append([fila_n[\"dataset\"], fila_n[\"n\"], fila_n[\"m\"], \"AGMH\", parametro, parametro, parametro, fila_n[\"archivo\"], res]);"
   ]
  },
  {
   "cell_type": "code",
   "execution_count": null,
   "metadata": {},
   "outputs": [],
   "source": [
    "parametro = 0\n",
    "res = 55209\n",
    "fila_n = df_gr96.iloc[0];\n",
    "experimentos.append([fila_n[\"dataset\"], fila_n[\"n\"], fila_n[\"m\"], \"AGMH\", parametro, parametro, parametro, fila_n[\"archivo\"], res]);"
   ]
  },
  {
   "cell_type": "code",
   "execution_count": null,
   "metadata": {},
   "outputs": [],
   "source": [
    "parametro = 0\n",
    "res = 538\n",
    "fila_n = df_eil76.iloc[0];\n",
    "experimentos.append([fila_n[\"dataset\"], fila_n[\"n\"], fila_n[\"m\"], \"AGMH\", parametro, parametro, parametro, fila_n[\"archivo\"], res]);"
   ]
  },
  {
   "cell_type": "code",
   "execution_count": null,
   "metadata": {},
   "outputs": [],
   "source": [
    "parametro = 0\n",
    "res = 118282\n",
    "fila_n = df_bier127.iloc[0];\n",
    "experimentos.append([fila_n[\"dataset\"], fila_n[\"n\"], fila_n[\"m\"], \"AGMH\", parametro, parametro, parametro, fila_n[\"archivo\"], res]);"
   ]
  },
  {
   "cell_type": "code",
   "execution_count": null,
   "metadata": {},
   "outputs": [],
   "source": [
    "parametro = 0\n",
    "res = 2579\n",
    "fila_n = df_a280.iloc[0];\n",
    "experimentos.append([fila_n[\"dataset\"], fila_n[\"n\"], fila_n[\"m\"], \"AGMH\", parametro, parametro, parametro, fila_n[\"archivo\"], res]);"
   ]
  },
  {
   "cell_type": "code",
   "execution_count": null,
   "metadata": {},
   "outputs": [],
   "source": [
    "fila_n = df_burma14.iloc[0];\n",
    "res = 3323\n",
    "memSize = 14 # 20% de los vértices\n",
    "porcentaje_vecindad = 20\n",
    "iteraciones = 1000\n",
    "experimentos.append([fila_n[\"dataset\"], fila_n[\"n\"], fila_n[\"m\"], \"TSC-AGM\", memSize, porcentaje_vecindad, iteraciones, fila_n[\"archivo\"], res]);"
   ]
  },
  {
   "cell_type": "code",
   "execution_count": null,
   "metadata": {},
   "outputs": [],
   "source": [
    "fila_n = df_bayg29.iloc[0];\n",
    "res = 1610\n",
    "memSize = 29 # 20% de los vértices\n",
    "porcentaje_vecindad = 20\n",
    "iteraciones = 1000\n",
    "experimentos.append([fila_n[\"dataset\"], fila_n[\"n\"], fila_n[\"m\"], \"TSC-AGM\", memSize, porcentaje_vecindad, iteraciones, fila_n[\"archivo\"], res]);fila_n = df_att48.iloc[0];\n",
    "res = 10628\n",
    "memSize = 48 # 20% de los vértices\n",
    "porcentaje_vecindad = 20\n",
    "iteraciones = 1000\n",
    "experimentos.append([fila_n[\"dataset\"], fila_n[\"n\"], fila_n[\"m\"], \"TSC-AGM\", memSize, porcentaje_vecindad, iteraciones, fila_n[\"archivo\"], res]);"
   ]
  },
  {
   "cell_type": "code",
   "execution_count": null,
   "metadata": {},
   "outputs": [],
   "source": [
    "fila_n = df_berlin52.iloc[0];\n",
    "res = 7542\n",
    "memSize = 52 # 20% de los vértices\n",
    "porcentaje_vecindad = 20\n",
    "iteraciones = 1000\n",
    "experimentos.append([fila_n[\"dataset\"], fila_n[\"n\"], fila_n[\"m\"], \"TSC-AGM\", memSize, porcentaje_vecindad, iteraciones, fila_n[\"archivo\"], res]);"
   ]
  },
  {
   "cell_type": "code",
   "execution_count": null,
   "metadata": {},
   "outputs": [],
   "source": [
    "fila_n = df_gr96.iloc[0];\n",
    "res = 55209\n",
    "memSize = 96\n",
    "porcentaje_vecindad = 20\n",
    "iteraciones = 1000\n",
    "experimentos.append([fila_n[\"dataset\"], fila_n[\"n\"], fila_n[\"m\"], \"TSC-AGM\", memSize, porcentaje_vecindad, iteraciones, fila_n[\"archivo\"], res]);"
   ]
  },
  {
   "cell_type": "code",
   "execution_count": null,
   "metadata": {},
   "outputs": [],
   "source": [
    "fila_n = df_eil76.iloc[0];\n",
    "res = 538\n",
    "memSize = 76\n",
    "porcentaje_vecindad = 20\n",
    "iteraciones = 1000\n",
    "experimentos.append([fila_n[\"dataset\"], fila_n[\"n\"], fila_n[\"m\"], \"TSC-AGM\", memSize, porcentaje_vecindad, iteraciones, fila_n[\"archivo\"], res]);"
   ]
  },
  {
   "cell_type": "code",
   "execution_count": null,
   "metadata": {},
   "outputs": [],
   "source": [
    "fila_n = df_bier127.iloc[0];\n",
    "res = 118282\n",
    "memSize = 127\n",
    "porcentaje_vecindad = 20\n",
    "iteraciones = 1000\n",
    "experimentos.append([fila_n[\"dataset\"], fila_n[\"n\"], fila_n[\"m\"], \"TSC-AGM\", memSize, porcentaje_vecindad, iteraciones, fila_n[\"archivo\"], res]);"
   ]
  },
  {
   "cell_type": "code",
   "execution_count": null,
   "metadata": {},
   "outputs": [],
   "source": [
    "fila_n = df_a280.iloc[0];\n",
    "res = 2579\n",
    "memSize = 280\n",
    "porcentaje_vecindad = 20\n",
    "iteraciones = 1000\n",
    "experimentos.append([fila_n[\"dataset\"], fila_n[\"n\"], fila_n[\"m\"], \"TSC-AGM\", memSize, porcentaje_vecindad, iteraciones, fila_n[\"archivo\"], res]);"
   ]
  },
  {
   "cell_type": "code",
   "execution_count": null,
   "metadata": {},
   "outputs": [],
   "source": [
    "fila_n = df_burma14.iloc[0];\n",
    "res = 3323\n",
    "memSize = 14\n",
    "iteraciones = 1000\n",
    "porcentaje_vecindad = 20\n",
    "experimentos.append([fila_n[\"dataset\"],fila_n[\"n\"], fila_n[\"m\"], \"TSE-AGM\", memSize, porcentaje_vecindad, iteraciones, fila_n[\"archivo\"], res]);\n"
   ]
  },
  {
   "cell_type": "code",
   "execution_count": null,
   "metadata": {},
   "outputs": [],
   "source": [
    "fila_n = df_bayg29.iloc[0];\n",
    "res = 1610\n",
    "memSize = 29\n",
    "iteraciones = 1000\n",
    "porcentaje_vecindad = 20\n",
    "experimentos.append([fila_n[\"dataset\"],fila_n[\"n\"], fila_n[\"m\"], \"TSE-AGM\", memSize, porcentaje_vecindad, iteraciones, fila_n[\"archivo\"], res]);\n"
   ]
  },
  {
   "cell_type": "code",
   "execution_count": null,
   "metadata": {},
   "outputs": [],
   "source": [
    "fila_n = df_att48.iloc[0];\n",
    "res = 10628\n",
    "memSize = 48\n",
    "iteraciones = 1000\n",
    "porcentaje_vecindad = 20\n",
    "experimentos.append([fila_n[\"dataset\"],fila_n[\"n\"], fila_n[\"m\"], \"TSE-AGM\", memSize, porcentaje_vecindad, iteraciones, fila_n[\"archivo\"], res]);\n"
   ]
  },
  {
   "cell_type": "code",
   "execution_count": null,
   "metadata": {},
   "outputs": [],
   "source": [
    "fila_n = df_berlin52.iloc[0];\n",
    "res = 7542\n",
    "memSize = 52\n",
    "iteraciones = 1000\n",
    "porcentaje_vecindad = 20\n",
    "experimentos.append([fila_n[\"dataset\"],fila_n[\"n\"], fila_n[\"m\"], \"TSE-AGM\", memSize, porcentaje_vecindad, iteraciones, fila_n[\"archivo\"], res]);\n"
   ]
  },
  {
   "cell_type": "code",
   "execution_count": null,
   "metadata": {},
   "outputs": [],
   "source": [
    "fila_n = df_gr96.iloc[0];\n",
    "res = 55209\n",
    "memSize = 96\n",
    "iteraciones = 1000\n",
    "porcentaje_vecindad = 20\n",
    "experimentos.append([fila_n[\"dataset\"],fila_n[\"n\"], fila_n[\"m\"], \"TSE-AGM\", memSize, porcentaje_vecindad, iteraciones, fila_n[\"archivo\"], res]);\n"
   ]
  },
  {
   "cell_type": "code",
   "execution_count": null,
   "metadata": {},
   "outputs": [],
   "source": [
    "fila_n = df_eil76.iloc[0];\n",
    "res = 538\n",
    "memSize = 76\n",
    "iteraciones = 1000\n",
    "porcentaje_vecindad = 20\n",
    "experimentos.append([fila_n[\"dataset\"],fila_n[\"n\"], fila_n[\"m\"], \"TSE-AGM\", memSize, porcentaje_vecindad, iteraciones, fila_n[\"archivo\"], res]);\n",
    "fila_n = df_bier127.iloc[0];\n",
    "res = 118282\n",
    "memSize = 127\n",
    "iteraciones = 1000\n",
    "porcentaje_vecindad = 20\n",
    "experimentos.append([fila_n[\"dataset\"],fila_n[\"n\"], fila_n[\"m\"], \"TSE-AGM\", memSize, porcentaje_vecindad, iteraciones, fila_n[\"archivo\"], res]);\n"
   ]
  },
  {
   "cell_type": "code",
   "execution_count": null,
   "metadata": {},
   "outputs": [],
   "source": [
    "fila_n = df_a280.iloc[0];\n",
    "res = 2579\n",
    "memSize = 280\n",
    "iteraciones = 1000\n",
    "porcentaje_vecindad = 20\n",
    "experimentos.append([fila_n[\"dataset\"],fila_n[\"n\"], fila_n[\"m\"], \"TSE-AGM\", memSize, porcentaje_vecindad, iteraciones, fila_n[\"archivo\"], res]);\n"
   ]
  },
  {
   "cell_type": "markdown",
   "metadata": {},
   "source": [
    "## Ejecuto los experimentos óptimos\n"
   ]
  },
  {
   "cell_type": "code",
   "execution_count": null,
   "metadata": {},
   "outputs": [],
   "source": [
    "columnas = [\"dataset\", \"n\", \"m\", \"metodo\", \"memSize\",\"porcentajeVecindad\",\"iteraciones\",\"optimo\",\"costo\", \"gap\", \"gap_relativo\", \"tiempo\"];\n",
    "filas = [];\n",
    "numero = 1\n",
    "#res_exacta = 2579\n",
    "#porcentaje_vecindad = 30 #CAMBIO\n",
    "#iteraciones = 30 #CAMBIO\n",
    "T = 1 # Numero de veces que se ejecuta cada experimento (para mayor fidelidad del tiempo).\n",
    "for experimento in experimentos:\n",
    "    # Voy mostrando que experimento se esta ejecutando.\n",
    "    clear_output(wait=True)\n",
    "    display('Experimento: ' + str(numero) + \"/\" + str(len(experimentos)))\n",
    "    numero += 1\n",
    "    \n",
    "    # Ejecutamos el experimento T veces y obtenemos la mediana.\n",
    "    tiempos = []\n",
    "    costo = 0\n",
    "    \n",
    "    #def correr_experimento(metodo, mem_size, porc_vecindad, iteraciones, archivo_instancia):\n",
    "    \n",
    "    res = correr_experimento(experimento[3],str(experimento[4]),str(experimento[5]), str(experimento[6]),experimento[7]);#CAMBIO \n",
    "    tiempos.append(res[0]);\n",
    "    costo = res[1]\n",
    "    \n",
    "    tiempo = np.median(tiempos);\n",
    "    optimo = experimento[8] \n",
    "    gap = costo - optimo\n",
    "    gap_relativo = gap/optimo\n",
    "    filas.append([experimento[0], experimento[1], experimento[2], experimento[3], experimento[4], experimento[5], experimento[6],optimo, costo, gap, gap_relativo, tiempo]);\n",
    "df_resultado = pd.DataFrame(filas, columns=columnas);\n",
    "df_resultado.to_csv(\"resultados/resultado-comparativa.csv\", index=False, header=True);"
   ]
  },
  {
   "cell_type": "code",
   "execution_count": null,
   "metadata": {},
   "outputs": [],
   "source": []
  },
  {
   "cell_type": "markdown",
   "metadata": {},
   "source": [
    "# Experimentos variando la memoria"
   ]
  },
  {
   "cell_type": "code",
   "execution_count": null,
   "metadata": {},
   "outputs": [],
   "source": [
    "## varia tamaño de vecindad:\n",
    "fila_n = df_a280.iloc[0];\n",
    "    \n",
    "## varia tamaño de memoria:\n",
    "porcentaje_vecindad = 10\n",
    "menSize = 28\n",
    "for iteraciones in [0,20,50,80,100,200,300,400,500,600,700,800,900,100]:\n",
    "    experimentos.append([fila_n[\"dataset\"], \"memoria-28-vecinos-10\", fila_n[\"n\"], fila_n[\"m\"], \"TSC-AGM\", menSize, porcentaje_vecindad, iteraciones, fila_n[\"archivo\"]]);\n",
    "\n",
    "menSize = 84\n",
    "for iteraciones in [0,20, 50,80,100,200,300,400,500,600,700,800,900,100]:\n",
    "    experimentos.append([fila_n[\"dataset\"], \"memoria-84-vecinos-10\", fila_n[\"n\"], fila_n[\"m\"], \"TSC-AGM\", menSize, porcentaje_vecindad, iteraciones, fila_n[\"archivo\"]]);\n",
    "\n",
    "menSize = 280\n",
    "for iteraciones in [0,20, 50,80,100,200,300,400,500,600,700,800,900,100]:\n",
    "    experimentos.append([fila_n[\"dataset\"], \"memoria-280-vecinos-10\", fila_n[\"n\"], fila_n[\"m\"], \"TSC-AGM\", menSize, porcentaje_vecindad, iteraciones, fila_n[\"archivo\"]]);\n",
    "\n",
    "porcentaje_vecindad = 20\n",
    "menSize = 28\n",
    "for iteraciones in [0,20,50,80,100,200,300,400,500,600,700,800,900,100]:\n",
    "    experimentos.append([fila_n[\"dataset\"], \"memoria-28-vecinos-20\", fila_n[\"n\"], fila_n[\"m\"], \"TSC-AGM\", menSize, porcentaje_vecindad, iteraciones, fila_n[\"archivo\"]]);\n",
    "\n",
    "menSize = 84\n",
    "for iteraciones in [0,20,50,80,100,200,300,400,500,600,700,800,900,100]:\n",
    "    experimentos.append([fila_n[\"dataset\"], \"memoria-84-vecinos-20\", fila_n[\"n\"], fila_n[\"m\"], \"TSC-AGM\", menSize, porcentaje_vecindad, iteraciones, fila_n[\"archivo\"]]);\n",
    "\n",
    "menSize = 280\n",
    "for iteraciones in [0,20,50,80,100,200,300,400,500,600,700,800,900,100]:\n",
    "    experimentos.append([fila_n[\"dataset\"], \"memoria-280-vecinos-20\", fila_n[\"n\"], fila_n[\"m\"], \"TSC-AGM\", menSize, porcentaje_vecindad, iteraciones, fila_n[\"archivo\"]]);"
   ]
  },
  {
   "cell_type": "code",
   "execution_count": null,
   "metadata": {},
   "outputs": [],
   "source": [
    "## varia tamaño de vecindad:\n",
    "fila_n = df_a280.iloc[0];\n",
    "    \n",
    "## varia tamaño de memoria:\n",
    "porcentaje_vecindad = 10\n",
    "menSize = 28\n",
    "for iteraciones in range(0, 1001,20):\n",
    "    experimentos.append([fila_n[\"dataset\"], \"memoria-28-vecinos-10\", fila_n[\"n\"], fila_n[\"m\"], \"TSE-AGM\", menSize, porcentaje_vecindad, iteraciones, fila_n[\"archivo\"]]);\n",
    "\n",
    "menSize = 84\n",
    "for iteraciones in range(0, 1001,20):\n",
    "    experimentos.append([fila_n[\"dataset\"], \"memoria-84-vecinos-10\", fila_n[\"n\"], fila_n[\"m\"], \"TSE-AGM\", menSize, porcentaje_vecindad, iteraciones, fila_n[\"archivo\"]]);\n",
    "\n",
    "menSize = 280\n",
    "for iteraciones in range(0, 1001,20):\n",
    "    experimentos.append([fila_n[\"dataset\"], \"memoria-280-vecinos-10\", fila_n[\"n\"], fila_n[\"m\"], \"TSE-AGM\", menSize, porcentaje_vecindad, iteraciones, fila_n[\"archivo\"]]);\n",
    "\n",
    "porcentaje_vecindad = 20\n",
    "menSize = 28\n",
    "for iteraciones in range(0, 1001,20):\n",
    "    experimentos.append([fila_n[\"dataset\"], \"memoria-28-vecinos-20\", fila_n[\"n\"], fila_n[\"m\"], \"TSE-AGM\", menSize, porcentaje_vecindad, iteraciones, fila_n[\"archivo\"]]);\n",
    "\n",
    "menSize = 84\n",
    "for iteraciones in range(0, 1001,20):\n",
    "    experimentos.append([fila_n[\"dataset\"], \"memoria-84-vecinos-20\", fila_n[\"n\"], fila_n[\"m\"], \"TSE-AGM\", menSize, porcentaje_vecindad, iteraciones, fila_n[\"archivo\"]]);\n",
    "\n",
    "menSize = 280\n",
    "for iteraciones in range(0, 1001,20):\n",
    "    experimentos.append([fila_n[\"dataset\"], \"memoria-280-vecinos-20\", fila_n[\"n\"], fila_n[\"m\"], \"TSE-AGM\", menSize, porcentaje_vecindad, iteraciones, fila_n[\"archivo\"]]);"
   ]
  },
  {
   "cell_type": "markdown",
   "metadata": {},
   "source": [
    "## Ejecuto los experimentos de memoria"
   ]
  },
  {
   "cell_type": "code",
   "execution_count": null,
   "metadata": {},
   "outputs": [],
   "source": [
    "columnas = [\"dataset\", \"caso\", \"n\", \"m\", \"metodo\", \"memSize\",\"porcentajeVecindad\",\"iteraciones\",\"tiempo\",\"costo\", \"gap\"];\n",
    "filas = [];\n",
    "numero = 1\n",
    "res_exacta = 2579\n",
    "\n",
    "T = 1 # Numero de veces que se ejecuta cada experimento (para mayor fidelidad del tiempo).\n",
    "for experimento in experimentos:\n",
    "    # Voy mostrando que experimento se esta ejecutando.\n",
    "    clear_output(wait=True)\n",
    "    display('Experimento: ' + str(numero) + \"/\" + str(len(experimentos)))\n",
    "    numero += 1\n",
    "    \n",
    "    # Ejecutamos el experimento T veces y obtenemos la mediana.\n",
    "    tiempos = []\n",
    "    costo = 0\n",
    "\n",
    "    #parametros: correr_experimento(metodo, mem_size, porc_vecindad, iteraciones, archivo_instancia)\n",
    "    #columnas de experimento[i]: dataset, caso, n, m, metodo, memSize, porcentajeVecindad, iteraciones, archivo\n",
    "    res = correr_experimento(experimento[4],str(experimento[5]),str(experimento[6]), str(experimento[7]),experimento[8]);#CAMBIO \n",
    "    tiempos.append(res[0]);\n",
    "    costo = res[1]\n",
    "    \n",
    "    tiempo = np.median(tiempos);\n",
    "    gap = costo - res_exacta\n",
    "    filas.append([experimento[0], experimento[1], experimento[2], experimento[3], experimento[4], experimento[5], experimento[6], experimento[7], tiempo, costo, gap]);\n",
    "df_resultado = pd.DataFrame(filas, columns=columnas);\n",
    "df_resultado.to_csv(\"resultados/resultado.csv\", index=False, header=True);"
   ]
  },
  {
   "cell_type": "markdown",
   "metadata": {},
   "source": [
    "# Experimento Iteraciones - Vecinos\n",
    "\n",
    "Comparacion de TSE-AGM y TSC-AGM para distintos porcentajes de vecindario,\n",
    "sobre el dataset a280.tsp\n",
    "\n",
    "vecinos = 1, 5, 10, 20, 30, 60\n",
    "\n",
    "iteraciones = 1, 10, 20, 30, 40, 50, 100, 200, 400, 600, 800, 1000"
   ]
  },
  {
   "cell_type": "markdown",
   "metadata": {},
   "source": [
    "### Meta-Heuristicas TSE-AGM"
   ]
  },
  {
   "cell_type": "code",
   "execution_count": null,
   "metadata": {},
   "outputs": [],
   "source": [
    "experimentos = [];\n",
    "## TSE-AGM: tabu search con memoria basada en estructuras (aristas).\n",
    "fila_n = df_a280.iloc[0];\n",
    "memSize = 200 #######################\n",
    "\n",
    "#porcentajeVecindad\n",
    "rango_porcentajes = [1, 5, 10, 20, 60] #5 \n",
    "rango_iteraciones = [1, 10, 20, 30, 40, 50, 100, 200, 400, 600, 800, 1000] #12 \n",
    "\n",
    "for p in rango_porcentajes: # elementos\n",
    "    for i in rango_iteraciones: #  elementos\n",
    "        experimentos.append([fila_n[\"dataset\"], \"iteraciones-vecinos-TSE\", fila_n[\"n\"], fila_n[\"m\"], \"TSE-AGM\", memSize, p, i, fila_n[\"archivo\"]]);\n"
   ]
  },
  {
   "cell_type": "markdown",
   "metadata": {},
   "source": [
    "### Meta-Heuristicas TSC-AGM"
   ]
  },
  {
   "cell_type": "code",
   "execution_count": null,
   "metadata": {},
   "outputs": [],
   "source": [
    "## TSC-AGM: tabu search con memoria basada en ultimas soluciones exploradas\n",
    "fila_n = df_a280.iloc[0];\n",
    "memSize = 200 #######################\n",
    "\n",
    "#porcentajeVecindad\n",
    "rango_porcentajes = [1, 5, 10, 20, 60] #5 \n",
    "rango_iteraciones = [1, 10, 20, 30, 40, 50, 100, 200, 400, 600, 800, 1000] #12 \n",
    "\n",
    "for p in rango_porcentajes: # elementos\n",
    "    for i in rango_iteraciones: #  elementos\n",
    "        experimentos.append([fila_n[\"dataset\"], \"iteraciones-vecinos-TSC\", fila_n[\"n\"], fila_n[\"m\"], \"TSC-AGM\", memSize, p, i, fila_n[\"archivo\"]]);\n"
   ]
  },
  {
   "cell_type": "markdown",
   "metadata": {},
   "source": [
    "## Ejecutar los experimentos de iteraciones - vecinos"
   ]
  },
  {
   "cell_type": "code",
   "execution_count": null,
   "metadata": {},
   "outputs": [],
   "source": [
    "columnas = [\"dataset\", \"caso\", \"n\", \"m\", \"metodo\", \"memSize\",\"porcentajeVecindad\",\"iteraciones\",\"tiempo\",\"costo\"];\n",
    "filas = [];\n",
    "numero = 1\n",
    "\n",
    "T = 1 #5 # Numero de veces que se ejecuta cada experimento (para mayor fidelidad del tiempo).\n",
    "for experimento in experimentos:\n",
    "    # Voy mostrando que experimento se esta ejecutando.\n",
    "    clear_output(wait=True)\n",
    "    display('Experimento: ' + str(numero) + \"/\" + str(len(experimentos)))\n",
    "    numero += 1\n",
    "    \n",
    "    # Ejecutamos el experimento T veces y obtenemos la mediana.\n",
    "    tiempos = []\n",
    "    costo = 0\n",
    "    \n",
    "    #parametros: correr_experimento(metodo, mem_size, porc_vecindad, iteraciones, archivo_instancia)\n",
    "    #columnas de experimento[i]: dataset, caso, n, m, metodo, memSize, porcentajeVecindad, iteraciones, archivo\n",
    "    res = correr_experimento(experimento[4],str(experimento[5]),str(experimento[6]), str(experimento[7]),experimento[8]);#CAMBIO \n",
    "    tiempos.append(res[0]);\n",
    "    costo = res[1]\n",
    "    \n",
    "    tiempo = np.median(tiempos);\n",
    "    filas.append([experimento[0], experimento[1], experimento[2], experimento[3], experimento[4], experimento[5], experimento[6], experimento[7], tiempo, costo]);\n",
    "df_resultado = pd.DataFrame(filas, columns=columnas);\n",
    "df_resultado.to_csv(\"resultados/resultado_a280_iters_vecinos.csv\", index=False, header=True);"
   ]
  }
 ],
 "metadata": {
  "kernelspec": {
   "display_name": "Python 3",
   "language": "python",
   "name": "python3"
  },
  "language_info": {
   "codemirror_mode": {
    "name": "ipython",
    "version": 3
   },
   "file_extension": ".py",
   "mimetype": "text/x-python",
   "name": "python",
   "nbconvert_exporter": "python",
   "pygments_lexer": "ipython3",
   "version": "3.8.5"
  }
 },
 "nbformat": 4,
 "nbformat_minor": 4
}
