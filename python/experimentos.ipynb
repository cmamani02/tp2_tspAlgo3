{
 "cells": [
  {
   "cell_type": "code",
   "execution_count": 49,
   "metadata": {},
   "outputs": [],
   "source": [
    "import math, subprocess\n",
    "import pandas as pd\n",
    "import numpy as np\n",
    "from IPython.display import display, clear_output"
   ]
  },
  {
   "cell_type": "markdown",
   "metadata": {},
   "source": [
    "A continuación leemos los datasets en dataframes de Pandas."
   ]
  },
  {
   "cell_type": "code",
   "execution_count": 50,
   "metadata": {},
   "outputs": [],
   "source": [
    "def leer_instancia(path_instancia):\n",
    "    with open(path_instancia, \"r\") as f:\n",
    "        return f.read();\n",
    "\n",
    "df_a280 = pd.read_csv(\"tsp_instances_txt/indice_a280.csv\");\n",
    "df_bayg29 = pd.read_csv(\"tsp_instances_txt/indice_bayg29.csv\");# el csv lo arme a mano, sin celdas\n",
    "df_berlin52 = pd.read_csv(\"tsp_instances_txt/indice_berlin52.csv\");\n",
    "df_ramdon = pd.read_csv(\"tsp_random_txt/indice_random.csv\"); \n",
    "df_ramdon_reducido = pd.read_csv(\"tsp_random_txt/indice_random_reducido.csv\"); \n",
    " \n"
   ]
  },
  {
   "cell_type": "code",
   "execution_count": 58,
   "metadata": {
    "tags": []
   },
   "outputs": [],
   "source": [
    "def correr_experimento(metodo, mem_size, porc_vecindad, iteraciones, archivo_instancia):\n",
    "    # Leer archivo de la instancia.\n",
    "    instancia = leer_instancia(archivo_instancia)\n",
    "    \n",
    "    # Crear proceso para ejecutar el codigo.\n",
    "    process = subprocess.Popen([\"../../tp2_tspAlgo3/tp2\", metodo, mem_size, porc_vecindad, iteraciones], stderr=subprocess.PIPE, stdout=subprocess.PIPE, stdin=subprocess.PIPE, universal_newlines = True)\n",
    "\n",
    "    # Poner la instancia en la entrada estandar.\n",
    "    process.stdin.write(instancia)\n",
    "    process.stdin.flush()\n",
    "\n",
    "    # Correr experimento.\n",
    "    exit_code = process.wait()\n",
    "\n",
    "    # Verificar que el proceso no fallo.\n",
    "    if exit_code != 0: raise(F\"Hubo un error en la experimentacion para el algoritmo: {algoritmo} con la instancia {archivo_instancia}.\")\n",
    "    # Leer salida de STDERR con los tiempos de ejecucion de cada metodo.\n",
    "    tiempo_de_ejecucion = float(process.stderr.read());\n",
    "    costo_ciclo = int(process.stdout.read());\n",
    "    print(costo_ciclo)\n",
    "    process.stdin.close();\n",
    "    process.stdout.close();\n",
    "    process.stderr.close();\n",
    "    instancia = (tiempo_de_ejecucion, costo_ciclo)\n",
    "    return instancia;"
   ]
  },
  {
   "cell_type": "code",
   "execution_count": 55,
   "metadata": {},
   "outputs": [],
   "source": [
    "experimentos = [];"
   ]
  },
  {
   "cell_type": "markdown",
   "metadata": {},
   "source": [
    "# Experimento 1\n",
    "Experimentos para el metodo TSE-AGM, variando el tamaño de la memoria"
   ]
  },
  {
   "cell_type": "code",
   "execution_count": 56,
   "metadata": {},
   "outputs": [],
   "source": [
    "#for n in range(0, 10):\n",
    "#    fila_n = df_a280.iloc[n];\n",
    "#    experimentos.append([fila_n[\"dataset\"], n, fila_n[\"m\"], \"TSE-AGM\", fila_n[\"archivo\"]]);\n",
    "\n",
    "## varia tamaño de vecindad:\n",
    "fila_n = df_a280.iloc[0];\n",
    "memSize = 20\n",
    "\n",
    "#porcentajeVecindad\n",
    "iteraciones = 1000\n",
    "rango_porcentajes = np.array(np.arange(10, 60, 10)) \n",
    "for p in rango_porcentajes: # 15 elementos\n",
    "    experimentos.append([fila_n[\"dataset\"], \"variando-vecinos\", fila_n[\"n\"], fila_n[\"m\"], \"TSE-AGM\", memSize, p, iteraciones, fila_n[\"archivo\"]]);\n",
    "    \n",
    "## varia tamaño de memoria:\n",
    "porcentaje_vecindad = 10\n",
    "rango_memoria = np.array(np.arange(10, 60, 10))\n",
    "for t in rango_memoria : # 15 elementos\n",
    "    experimentos.append([fila_n[\"dataset\"], \"variando-memoria\", fila_n[\"n\"], fila_n[\"m\"], \"TSE-AGM\", t, porcentaje_vecindad, iteraciones, fila_n[\"archivo\"]]);\n",
    "\n",
    "## varia cantidad de iteraciones:\n",
    "rango_iteraciones = np.array(np.arange(10, 1000, 10)) \n",
    "for i in rango_iteraciones: # 20 elementos\n",
    "    experimentos.append([fila_n[\"dataset\"], \"variando-iteraciones\", fila_n[\"n\"], fila_n[\"m\"], \"TSE-AGM\", memSize, porcentaje_vecindad, i, fila_n[\"archivo\"]]);\n",
    "\n"
   ]
  },
  {
   "cell_type": "markdown",
   "metadata": {},
   "source": [
    "# Experimento 2: BERLIN52\n",
    "Experimentos para el metodo TSE-AGM, variando el tamaño de la vecindad, memoria, iteraciones (por separado)"
   ]
  },
  {
   "cell_type": "code",
   "execution_count": 34,
   "metadata": {},
   "outputs": [],
   "source": [
    "#contenido de df_berlin52: dataset,n,m,archivo\n",
    "\n",
    "## varia tamaño de vecindad:\n",
    "fila_n = df_berlin52.iloc[0];\n",
    "memSize = 20\n",
    "#porcentajeVecindad\n",
    "iteraciones = 1000\n",
    "rango = np.array(np.arange(10, 51, 10))\n",
    "for p in [1,2,3,4,5,6,7,8,9,10,20,30,40,50,60]: # 15 elementos\n",
    "    experimentos.append([fila_n[\"dataset\"], \"variando-vecinos\", fila_n[\"n\"], fila_n[\"m\"], \"TSE-AGM\", memSize, p, iteraciones, fila_n[\"archivo\"]]);\n",
    "    \n",
    "## varia tamaño de memoria:\n",
    "porcentaje_vecindad = 10\n",
    "for t in [1,5,10,20,30,40,50,100,150,200,300,400,500,600,700]: # 15 elementos\n",
    "    experimentos.append([fila_n[\"dataset\"], \"variando-memoria\", fila_n[\"n\"], fila_n[\"m\"], \"TSE-AGM\", t, porcentaje_vecindad, iteraciones, fila_n[\"archivo\"]]);\n",
    "\n",
    "## varia cantidad de iteraciones:\n",
    "for i in [1,5,10,20,30,40,50,70,80,90,100,200,300,400,500,600,700,800,900,1000]: # 20 elementos\n",
    "    experimentos.append([fila_n[\"dataset\"], \"variando-iteraciones\", fila_n[\"n\"], fila_n[\"m\"], \"TSE-AGM\", memSize, porcentaje_vecindad, i, fila_n[\"archivo\"]]);\n",
    "\n"
   ]
  },
  {
   "cell_type": "markdown",
   "metadata": {},
   "source": [
    "# Experimento 3: Comparacion Calidad\n",
    "### Heuristicas AGM-VMC-HI\n"
   ]
  },
  {
   "cell_type": "code",
   "execution_count": null,
   "metadata": {},
   "outputs": [],
   "source": [
    "experimentos = [];\n",
    "nombre_experimento = \"comparacion-calidad-1\"\n",
    "memo_t = 0\n",
    "porcentaje_vecindad = 0\n",
    "iteraciones = 0\n",
    "n = len(df_ramdon)\n",
    "#ahmh\n",
    "for i in range(n):\n",
    "    fila_i = df_ramdon.iloc[i];\n",
    "    experimentos.append([fila_i[\"dataset\"], F\"random-AGMH-{i}\", fila_i[\"n\"], fila_i[\"m\"], \"AGMH\", memo_t, porcentaje_vecindad, iteraciones, fila_i[\"archivo\"]]);\n",
    "for i in range(n):\n",
    "    fila_i = df_ramdon.iloc[i];\n",
    "    experimentos.append([fila_i[\"dataset\"], F\"random-VMC-{i}\", fila_i[\"n\"], fila_i[\"m\"], \"VMC\", memo_t, porcentaje_vecindad, iteraciones, fila_i[\"archivo\"]]);\n",
    "for i in range(n):\n",
    "    fila_i = df_ramdon.iloc[i];\n",
    "    experimentos.append([fila_i[\"dataset\"], F\"random-HI-{i}\", fila_i[\"n\"], fila_i[\"m\"], \"HI\", memo_t, porcentaje_vecindad, iteraciones, fila_i[\"archivo\"]]);\n"
   ]
  },
  {
   "cell_type": "markdown",
   "metadata": {},
   "source": [
    "### Meta-Heuristicas TSE-TSC"
   ]
  },
  {
   "cell_type": "code",
   "execution_count": null,
   "metadata": {},
   "outputs": [],
   "source": [
    "experimentos = [];\n",
    "nombre_experimento = \"comparacion-calidad-2\"\n",
    "n = len(df_ramdon_reducido)\n",
    "for i in range(n):\n",
    "    fila_i = df_ramdon_reducido.iloc[i];\n",
    "    rango_porcentajes = np.array(np.arange(10, 50, 10)) \n",
    "    for p in rango_porcentajes:\n",
    "        rango_memoria = np.array(np.arange(20,100, 20))\n",
    "        for t in rango_memoria:\n",
    "            rango_iteraciones = np.array(np.arange(20, 500, 20)) \n",
    "            for i in rango_iteraciones:\n",
    "                experimentos.append([fila_i[\"dataset\"], F\"random-TSE-AGM-{i}\", fila_i[\"n\"], fila_i[\"m\"], \"TSE-AGM\",t,p,i, fila_i[\"archivo\"]]);\n"
   ]
  },
  {
   "cell_type": "code",
   "execution_count": null,
   "metadata": {},
   "outputs": [],
   "source": []
  },
  {
   "cell_type": "markdown",
   "metadata": {
    "tags": []
   },
   "source": [
    "## Ejecutar los experimentos y guardar los resultados en un archivo CSV."
   ]
  },
  {
   "cell_type": "code",
   "execution_count": 57,
   "metadata": {},
   "outputs": [
    {
     "data": {
      "text/plain": [
       "'Experimento: 109/109'"
      ]
     },
     "metadata": {},
     "output_type": "display_data"
    },
    {
     "name": "stdout",
     "output_type": "stream",
     "text": [
      "entre\n",
      "2691\n"
     ]
    }
   ],
   "source": [
    "columnas = [\"dataset\", \"caso\", \"n\", \"m\", \"metodo\", \"memSize\",\"porcentajeVecindad\",\"iteraciones\",\"tiempo\",\"costo\"];\n",
    "filas = [];\n",
    "numero = 1\n",
    "indice = 0\n",
    "#porcentaje_vecindad = 30 #CAMBIO\n",
    "#iteraciones = 30 #CAMBIO\n",
    "T = 1 #5 # Numero de veces que se ejecuta cada experimento (para mayor fidelidad del tiempo).\n",
    "for experimento in experimentos:\n",
    "    # Voy mostrando que experimento se esta ejecutando.\n",
    "    clear_output(wait=True)\n",
    "    display('Experimento: ' + str(numero) + \"/\" + str(len(experimentos)))\n",
    "    numero += 1\n",
    "    \n",
    "    # Ejecutamos el experimento T veces y obtenemos la mediana.\n",
    "    tiempos = []\n",
    "    costo = 0\n",
    "    #parametros: correr_experimento(metodo, mem_size, porc_vecindad, iteraciones, archivo_instancia)\n",
    "    #columnas de experimento[i]: dataset, caso, n, m, metodo, memSize, porcentajeVecindad, iteraciones, archivo\n",
    "    res = correr_experimento(experimento[4],str(experimento[5]),str(experimento[6]), str(experimento[7]),experimento[8]);#CAMBIO \n",
    "    tiempos.append(res[0]);\n",
    "    costo = res[1]\n",
    "    tiempo = np.median(tiempos);\n",
    "    filas.append([indice, experimento[1], experimento[2], experimento[3], experimento[4], experimento[5], experimento[6], experimento[7], tiempo, costo]);\n",
    "    indice += 1\n",
    "df_resultado = pd.DataFrame(filas, columns=columnas);\n",
    "df_resultado.to_csv(F\"resultados/resultado-{nombre_experimento}.csv\", index=False, header=True);\n"
   ]
  },
  {
   "cell_type": "code",
   "execution_count": null,
   "metadata": {},
   "outputs": [],
   "source": []
  },
  {
   "cell_type": "code",
   "execution_count": null,
   "metadata": {},
   "outputs": [],
   "source": []
  }
 ],
 "metadata": {
  "kernelspec": {
   "display_name": "Python 3",
   "language": "python",
   "name": "python3"
  },
  "language_info": {
   "codemirror_mode": {
    "name": "ipython",
    "version": 3
   },
   "file_extension": ".py",
   "mimetype": "text/x-python",
   "name": "python",
   "nbconvert_exporter": "python",
   "pygments_lexer": "ipython3",
   "version": "3.8.8"
  }
 },
 "nbformat": 4,
 "nbformat_minor": 4
}
