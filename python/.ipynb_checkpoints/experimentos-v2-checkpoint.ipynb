{
 "cells": [
  {
   "cell_type": "code",
   "execution_count": 3,
   "metadata": {},
   "outputs": [],
   "source": [
    "import math, subprocess\n",
    "import pandas as pd\n",
    "import numpy as np\n",
    "from IPython.display import display, clear_output"
   ]
  },
  {
   "cell_type": "markdown",
   "metadata": {},
   "source": [
    "A continuación leemos los datasets en dataframes de Pandas."
   ]
  },
  {
   "cell_type": "code",
   "execution_count": 4,
   "metadata": {},
   "outputs": [],
   "source": [
    "def leer_instancia(path_instancia):\n",
    "    with open(path_instancia, \"r\") as f:\n",
    "        return f.read();\n",
    "\n",
    "df_a280 = pd.read_csv(\"tsp_instances_txt/indice.csv\");\n",
    "df_bayg29 = pd.read_csv(\"tsp_instances_txt/indice_bayg29.csv\");# el csv lo arme a mano, sin celdas\n",
    "df_berlin52 = pd.read_csv(\"tsp_instances_txt/indice_berlin52.csv\");\n",
    "#df_densidad_baja = pd.read_csv(\"instancias/densidad-baja/indice.csv\");"
   ]
  },
  {
   "cell_type": "code",
   "execution_count": 5,
   "metadata": {},
   "outputs": [
    {
     "data": {
      "text/html": [
       "<div>\n",
       "<style scoped>\n",
       "    .dataframe tbody tr th:only-of-type {\n",
       "        vertical-align: middle;\n",
       "    }\n",
       "\n",
       "    .dataframe tbody tr th {\n",
       "        vertical-align: top;\n",
       "    }\n",
       "\n",
       "    .dataframe thead th {\n",
       "        text-align: right;\n",
       "    }\n",
       "</style>\n",
       "<table border=\"1\" class=\"dataframe\">\n",
       "  <thead>\n",
       "    <tr style=\"text-align: right;\">\n",
       "      <th></th>\n",
       "      <th>dataset</th>\n",
       "      <th>instancia</th>\n",
       "      <th>n</th>\n",
       "      <th>m</th>\n",
       "      <th>archivo</th>\n",
       "    </tr>\n",
       "  </thead>\n",
       "  <tbody>\n",
       "    <tr>\n",
       "      <th>0</th>\n",
       "      <td>a280</td>\n",
       "      <td>a280-EU21</td>\n",
       "      <td>280</td>\n",
       "      <td>39340</td>\n",
       "      <td>tsp_instances_txt/a280.txt</td>\n",
       "    </tr>\n",
       "    <tr>\n",
       "      <th>1</th>\n",
       "      <td>a280</td>\n",
       "      <td>a280-EU22</td>\n",
       "      <td>280</td>\n",
       "      <td>39340</td>\n",
       "      <td>tsp_instances_txt/a280.txt</td>\n",
       "    </tr>\n",
       "    <tr>\n",
       "      <th>2</th>\n",
       "      <td>a280</td>\n",
       "      <td>a280-EU23</td>\n",
       "      <td>280</td>\n",
       "      <td>39340</td>\n",
       "      <td>tsp_instances_txt/a280.txt</td>\n",
       "    </tr>\n",
       "    <tr>\n",
       "      <th>3</th>\n",
       "      <td>a280</td>\n",
       "      <td>a280-EU24</td>\n",
       "      <td>280</td>\n",
       "      <td>39340</td>\n",
       "      <td>tsp_instances_txt/a280.txt</td>\n",
       "    </tr>\n",
       "    <tr>\n",
       "      <th>4</th>\n",
       "      <td>a280</td>\n",
       "      <td>a280-EU25</td>\n",
       "      <td>280</td>\n",
       "      <td>39340</td>\n",
       "      <td>tsp_instances_txt/a280.txt</td>\n",
       "    </tr>\n",
       "    <tr>\n",
       "      <th>5</th>\n",
       "      <td>a280</td>\n",
       "      <td>a280-EU26</td>\n",
       "      <td>280</td>\n",
       "      <td>39340</td>\n",
       "      <td>tsp_instances_txt/a280.txt</td>\n",
       "    </tr>\n",
       "    <tr>\n",
       "      <th>6</th>\n",
       "      <td>a280</td>\n",
       "      <td>a280-EU27</td>\n",
       "      <td>280</td>\n",
       "      <td>39340</td>\n",
       "      <td>tsp_instances_txt/a280.txt</td>\n",
       "    </tr>\n",
       "    <tr>\n",
       "      <th>7</th>\n",
       "      <td>a280</td>\n",
       "      <td>a280-EU28</td>\n",
       "      <td>280</td>\n",
       "      <td>39340</td>\n",
       "      <td>tsp_instances_txt/a280.txt</td>\n",
       "    </tr>\n",
       "    <tr>\n",
       "      <th>8</th>\n",
       "      <td>a280</td>\n",
       "      <td>a280-EU29</td>\n",
       "      <td>280</td>\n",
       "      <td>39340</td>\n",
       "      <td>tsp_instances_txt/a280.txt</td>\n",
       "    </tr>\n",
       "    <tr>\n",
       "      <th>9</th>\n",
       "      <td>a280</td>\n",
       "      <td>a280-EU210</td>\n",
       "      <td>280</td>\n",
       "      <td>39340</td>\n",
       "      <td>tsp_instances_txt/a280.txt</td>\n",
       "    </tr>\n",
       "  </tbody>\n",
       "</table>\n",
       "</div>"
      ],
      "text/plain": [
       "  dataset   instancia    n      m                     archivo\n",
       "0    a280   a280-EU21  280  39340  tsp_instances_txt/a280.txt\n",
       "1    a280   a280-EU22  280  39340  tsp_instances_txt/a280.txt\n",
       "2    a280   a280-EU23  280  39340  tsp_instances_txt/a280.txt\n",
       "3    a280   a280-EU24  280  39340  tsp_instances_txt/a280.txt\n",
       "4    a280   a280-EU25  280  39340  tsp_instances_txt/a280.txt\n",
       "5    a280   a280-EU26  280  39340  tsp_instances_txt/a280.txt\n",
       "6    a280   a280-EU27  280  39340  tsp_instances_txt/a280.txt\n",
       "7    a280   a280-EU28  280  39340  tsp_instances_txt/a280.txt\n",
       "8    a280   a280-EU29  280  39340  tsp_instances_txt/a280.txt\n",
       "9    a280  a280-EU210  280  39340  tsp_instances_txt/a280.txt"
      ]
     },
     "execution_count": 5,
     "metadata": {},
     "output_type": "execute_result"
    }
   ],
   "source": [
    "df_a280"
   ]
  },
  {
   "cell_type": "code",
   "execution_count": 6,
   "metadata": {},
   "outputs": [
    {
     "data": {
      "text/html": [
       "<div>\n",
       "<style scoped>\n",
       "    .dataframe tbody tr th:only-of-type {\n",
       "        vertical-align: middle;\n",
       "    }\n",
       "\n",
       "    .dataframe tbody tr th {\n",
       "        vertical-align: top;\n",
       "    }\n",
       "\n",
       "    .dataframe thead th {\n",
       "        text-align: right;\n",
       "    }\n",
       "</style>\n",
       "<table border=\"1\" class=\"dataframe\">\n",
       "  <thead>\n",
       "    <tr style=\"text-align: right;\">\n",
       "      <th></th>\n",
       "      <th>dataset</th>\n",
       "      <th>instancia</th>\n",
       "      <th>n</th>\n",
       "      <th>m</th>\n",
       "      <th>archivo</th>\n",
       "    </tr>\n",
       "  </thead>\n",
       "  <tbody>\n",
       "    <tr>\n",
       "      <th>0</th>\n",
       "      <td>bayg29</td>\n",
       "      <td>bayg29-EU21</td>\n",
       "      <td>29</td>\n",
       "      <td>841</td>\n",
       "      <td>tsp_instances_txt/bayg29.txt</td>\n",
       "    </tr>\n",
       "  </tbody>\n",
       "</table>\n",
       "</div>"
      ],
      "text/plain": [
       "  dataset    instancia   n    m                       archivo\n",
       "0  bayg29  bayg29-EU21  29  841  tsp_instances_txt/bayg29.txt"
      ]
     },
     "execution_count": 6,
     "metadata": {},
     "output_type": "execute_result"
    }
   ],
   "source": [
    "df_bayg29"
   ]
  },
  {
   "cell_type": "code",
   "execution_count": 9,
   "metadata": {},
   "outputs": [
    {
     "data": {
      "text/html": [
       "<div>\n",
       "<style scoped>\n",
       "    .dataframe tbody tr th:only-of-type {\n",
       "        vertical-align: middle;\n",
       "    }\n",
       "\n",
       "    .dataframe tbody tr th {\n",
       "        vertical-align: top;\n",
       "    }\n",
       "\n",
       "    .dataframe thead th {\n",
       "        text-align: right;\n",
       "    }\n",
       "</style>\n",
       "<table border=\"1\" class=\"dataframe\">\n",
       "  <thead>\n",
       "    <tr style=\"text-align: right;\">\n",
       "      <th></th>\n",
       "      <th>dataset</th>\n",
       "      <th>n</th>\n",
       "      <th>m</th>\n",
       "      <th>archivo</th>\n",
       "    </tr>\n",
       "  </thead>\n",
       "  <tbody>\n",
       "    <tr>\n",
       "      <th>0</th>\n",
       "      <td>berlin52</td>\n",
       "      <td>52</td>\n",
       "      <td>1326</td>\n",
       "      <td>tsp_instances_txt/berlin52.txt</td>\n",
       "    </tr>\n",
       "  </tbody>\n",
       "</table>\n",
       "</div>"
      ],
      "text/plain": [
       "    dataset   n     m                         archivo\n",
       "0  berlin52  52  1326  tsp_instances_txt/berlin52.txt"
      ]
     },
     "execution_count": 9,
     "metadata": {},
     "output_type": "execute_result"
    }
   ],
   "source": [
    "df_berlin52"
   ]
  },
  {
   "cell_type": "code",
   "execution_count": 10,
   "metadata": {
    "tags": []
   },
   "outputs": [],
   "source": [
    "def correr_experimento(metodo, mem_size, porc_vecindad, iteraciones, archivo_instancia):\n",
    "    # Leer archivo de la instancia.\n",
    "    instancia = leer_instancia(archivo_instancia)\n",
    "    \n",
    "    # Crear proceso para ejecutar el codigo.\n",
    "    process = subprocess.Popen([\"../../tp2_tspAlgo3/tp2\", metodo, mem_size, porc_vecindad, iteraciones], stderr=subprocess.PIPE, stdout=subprocess.PIPE, stdin=subprocess.PIPE, universal_newlines = True)\n",
    "\n",
    "    # Poner la instancia en la entrada estandar.\n",
    "    process.stdin.write(instancia)\n",
    "    process.stdin.flush()\n",
    "\n",
    "    # Correr experimento.\n",
    "    exit_code = process.wait()\n",
    "\n",
    "    # Verificar que el proceso no fallo.\n",
    "    if exit_code != 0: raise(F\"Hubo un error en la experimentacion para el algoritmo: {algoritmo} con la instancia {archivo_instancia}.\")\n",
    "    # Leer salida de STDERR con los tiempos de ejecucion de cada metodo.\n",
    "    tiempo_de_ejecucion = float(process.stderr.read());\n",
    "    costo_ciclo = int(process.stdout.read());\n",
    "    print(costo_ciclo)\n",
    "    process.stdin.close();\n",
    "    process.stdout.close();\n",
    "    process.stderr.close();\n",
    "    instancia = (tiempo_de_ejecucion, costo_ciclo)\n",
    "    return instancia;"
   ]
  },
  {
   "cell_type": "code",
   "execution_count": 28,
   "metadata": {},
   "outputs": [],
   "source": [
    "experimentos = [];"
   ]
  },
  {
   "cell_type": "markdown",
   "metadata": {},
   "source": [
    "# Experimento 1\n",
    "Experimentos para el metodo TSE-AGM, variando el tamaño de la memoria"
   ]
  },
  {
   "cell_type": "code",
   "execution_count": 9,
   "metadata": {},
   "outputs": [],
   "source": [
    "#for n in range(0, 10):\n",
    "#    fila_n = df_a280.iloc[n];\n",
    "#    experimentos.append([fila_n[\"dataset\"], n, fila_n[\"m\"], \"TSE-AGM\", fila_n[\"archivo\"]]);"
   ]
  },
  {
   "cell_type": "markdown",
   "metadata": {},
   "source": [
    "## Cargo solo una instancia, el resto son repeticiones"
   ]
  },
  {
   "cell_type": "code",
   "execution_count": 10,
   "metadata": {},
   "outputs": [],
   "source": [
    "#fila_n = df_a280.iloc[0];\n",
    "fila_n = df_bayg29.iloc[0]; # lee una instancia\n",
    "experimentos.append([fila_n[\"dataset\"], fila_n[\"n\"], fila_n[\"m\"], \"TSE-AGM\", fila_n[\"archivo\"]]); # decia n en lugar de fila_n[\"n\"]"
   ]
  },
  {
   "cell_type": "code",
   "execution_count": 11,
   "metadata": {},
   "outputs": [
    {
     "name": "stdout",
     "output_type": "stream",
     "text": [
      "dataset                            bayg29\n",
      "instancia                     bayg29-EU21\n",
      "n                                      29\n",
      "m                                     841\n",
      "archivo      tsp_instances_txt/bayg29.txt\n",
      "Name: 0, dtype: object\n"
     ]
    }
   ],
   "source": [
    "print(fila_n)"
   ]
  },
  {
   "cell_type": "code",
   "execution_count": null,
   "metadata": {},
   "outputs": [],
   "source": []
  },
  {
   "cell_type": "markdown",
   "metadata": {},
   "source": [
    "# Experimento 2: BERLIN52\n",
    "Experimentos para el metodo TSE-AGM, variando el tamaño de la vecindad, memoria, iteraciones (por separado)"
   ]
  },
  {
   "cell_type": "code",
   "execution_count": 29,
   "metadata": {},
   "outputs": [],
   "source": [
    "#contenido de df_berlin52: dataset,n,m,archivo\n",
    "\n",
    "## varia tamaño de vecindad:\n",
    "fila_n = df_berlin52.iloc[0];\n",
    "memSize = 20\n",
    "#porcentajeVecindad\n",
    "iteraciones = 1000\n",
    "for p in [1,2,3,4,5,6,7,8,9,10,20,30,40,50,60]: # 15 elementos\n",
    "    experimentos.append([fila_n[\"dataset\"], \"variando-vecinos\", fila_n[\"n\"], fila_n[\"m\"], \"TSE-AGM\", memSize, p, iteraciones, fila_n[\"archivo\"]]);\n",
    "    \n",
    "## varia tamaño de memoria:\n",
    "porcentaje_vecindad = 10\n",
    "for t in [1,5,10,20,30,40,50,100,150,200,300,400,500,600,700]: # 15 elementos\n",
    "    experimentos.append([fila_n[\"dataset\"], \"variando-memoria\", fila_n[\"n\"], fila_n[\"m\"], \"TSE-AGM\", t, porcentaje_vecindad, iteraciones, fila_n[\"archivo\"]]);\n",
    "\n",
    "## varia cantidad de iteraciones:\n",
    "for i in [1,5,10,20,30,40,50,70,80,90,100,200,300,400,500,600,700,800,900,1000]: # 20 elementos\n",
    "    experimentos.append([fila_n[\"dataset\"], \"variando-iteraciones\", fila_n[\"n\"], fila_n[\"m\"], \"TSE-AGM\", memSize, porcentaje_vecindad, i, fila_n[\"archivo\"]]);\n",
    "\n"
   ]
  },
  {
   "cell_type": "code",
   "execution_count": null,
   "metadata": {},
   "outputs": [],
   "source": [
    "#columnas de experimento[i]: dataset, caso, n, m, metodo, memSize, porcentajeVecindad, iteraciones, archivo"
   ]
  },
  {
   "cell_type": "code",
   "execution_count": 30,
   "metadata": {},
   "outputs": [
    {
     "data": {
      "text/plain": [
       "50"
      ]
     },
     "execution_count": 30,
     "metadata": {},
     "output_type": "execute_result"
    }
   ],
   "source": [
    "len(experimentos)"
   ]
  },
  {
   "cell_type": "markdown",
   "metadata": {
    "tags": []
   },
   "source": [
    "## (EMPROLIJAR)\n",
    "## Ejecutar los experimentos y guardar los resultados en un archivo CSV.\n",
    "lo pruebo con berlin52"
   ]
  },
  {
   "cell_type": "code",
   "execution_count": 31,
   "metadata": {},
   "outputs": [
    {
     "data": {
      "text/plain": [
       "'Experimento: 50/50'"
      ]
     },
     "metadata": {},
     "output_type": "display_data"
    },
    {
     "name": "stdout",
     "output_type": "stream",
     "text": [
      "7596\n"
     ]
    }
   ],
   "source": [
    "columnas = [\"dataset\", \"caso\", \"n\", \"m\", \"metodo\", \"memSize\",\"porcentajeVecindad\",\"iteraciones\",\"tiempo\",\"costo\"];\n",
    "filas = [];\n",
    "numero = 1\n",
    "#porcentaje_vecindad = 30 #CAMBIO\n",
    "#iteraciones = 30 #CAMBIO\n",
    "T = 1 #5 # Numero de veces que se ejecuta cada experimento (para mayor fidelidad del tiempo).\n",
    "for experimento in experimentos:\n",
    "    # Voy mostrando que experimento se esta ejecutando.\n",
    "    clear_output(wait=True)\n",
    "    display('Experimento: ' + str(numero) + \"/\" + str(len(experimentos)))\n",
    "    numero += 1\n",
    "    \n",
    "    # Ejecutamos el experimento T veces y obtenemos la mediana.\n",
    "    tiempos = []\n",
    "    costo = 0\n",
    "    #for i in range(0, T):\n",
    "    #    res = correr_experimento(experimento[3],str(t),str(porcentaje_vecindad),experimento[4]);#CAMBIO \n",
    "    #    tiempos.append(res[0]);\n",
    "    #    costo = res[1]\n",
    "    \n",
    "    #parametros: correr_experimento(metodo, mem_size, porc_vecindad, iteraciones, archivo_instancia)\n",
    "    #columnas de experimento[i]: dataset, caso, n, m, metodo, memSize, porcentajeVecindad, iteraciones, archivo\n",
    "    res = correr_experimento(experimento[4],str(experimento[5]),str(experimento[6]), str(experimento[7]),experimento[8]);#CAMBIO \n",
    "    tiempos.append(res[0]);\n",
    "    costo = res[1]\n",
    "    \n",
    "    tiempo = np.median(tiempos);\n",
    "    filas.append([experimento[0], experimento[1], experimento[2], experimento[3], experimento[4], experimento[5], experimento[6], experimento[7], tiempo, costo]);\n",
    "df_resultado = pd.DataFrame(filas, columns=columnas);\n",
    "df_resultado.to_csv(\"resultados/resultado.csv\", index=False, header=True);"
   ]
  },
  {
   "cell_type": "markdown",
   "metadata": {},
   "source": [
    "# Experimento 3: A280\n",
    "Experimentos para el metodo TSC-AGM, variando el tamaño de la vecindad, memoria, iteraciones (por separado)"
   ]
  },
  {
   "cell_type": "code",
   "execution_count": null,
   "metadata": {},
   "outputs": [],
   "source": [
    "## varia tamaño de vecindad:\n",
    "fila_n = df_a280.iloc[0];\n",
    "memSize = 20\n",
    "#porcentajeVecindad\n",
    "iteraciones = 1000\n",
    "for p in [10,20,30,40,50,60,70,100]: # 15 elementos\n",
    "    experimentos.append([fila_n[\"dataset\"], \"variando-vecinos\", fila_n[\"n\"], fila_n[\"m\"], \"TSC-AGM\", memSize, p, iteraciones, fila_n[\"archivo\"]]);\n",
    "    \n",
    "## varia tamaño de memoria:\n",
    "porcentaje_vecindad = 20\n",
    "for t in [int(fila_n[\"n\"]*0.05),int(fila_n[\"n\"]*0.10),int(fila_n[\"n\"]*0.20),int(fila_n[\"n\"]*0.30),int(fila_n[\"n\"]*0.40), int(fila_n[\"n\"]*0.50),int(fila_n[\"n\"]*0.70),int(fila_n[\"n\"])]: # 15 elementos\n",
    "    experimentos.append([fila_n[\"dataset\"], \"variando-memoria\", fila_n[\"n\"], fila_n[\"m\"], \"TSC-AGM\", t, porcentaje_vecindad, iteraciones, fila_n[\"archivo\"]]);\n",
    "\n",
    "## varia cantidad de iteraciones:\n",
    "for i in [1,5,10,20,30,40,50,70,80,90,100,200,300,400,500,600,700,800,900,1000]: # 20 elementos\n",
    "    experimentos.append([fila_n[\"dataset\"], \"variando-iteraciones\", fila_n[\"n\"], fila_n[\"m\"], \"TSC-AGM\", memSize, porcentaje_vecindad, i, fila_n[\"archivo\"]]);"
   ]
  },
  {
   "cell_type": "markdown",
   "metadata": {},
   "source": [
    "Experimentos para el metodo TSE-AGM, variando el tamaño de la vecindad, memoria, iteraciones (por separado)"
   ]
  },
  {
   "cell_type": "code",
   "execution_count": null,
   "metadata": {},
   "outputs": [],
   "source": [
    "## varia tamaño de vecindad:\n",
    "fila_n = df_a280.iloc[0];\n",
    "memSize = 56 # 20% de los vértices\n",
    "#porcentajeVecindad\n",
    "iteraciones = 1000\n",
    "for p in [10,20,30,40,50,60,70,100]: # 15 elementos\n",
    "    experimentos.append([fila_n[\"dataset\"], \"variando-vecinos\", fila_n[\"n\"], fila_n[\"m\"], \"TSE-AGM\", memSize, p, iteraciones, fila_n[\"archivo\"]]);\n",
    "    \n",
    "## varia tamaño de memoria:\n",
    "porcentaje_vecindad = 20\n",
    "for t in [int(fila_n[\"n\"]*0.05),int(fila_n[\"n\"]*0.10),int(fila_n[\"n\"]*0.20),int(fila_n[\"n\"]*0.30),int(fila_n[\"n\"]*0.40), int(fila_n[\"n\"]*0.50),int(fila_n[\"n\"]*0.70),int(fila_n[\"n\"])]: # 15 elementos\n",
    "    experimentos.append([fila_n[\"dataset\"], \"variando-memoria\", fila_n[\"n\"], fila_n[\"m\"], \"TSE-AGM\", t, porcentaje_vecindad, iteraciones, fila_n[\"archivo\"]]);\n",
    "\n",
    "## varia cantidad de iteraciones:\n",
    "for i in [1,5,10,20,30,40,50,70,80,90,100,200,300,400,500,600,700,800,900,1000]: # 20 elementos\n",
    "    experimentos.append([fila_n[\"dataset\"], \"variando-iteraciones\", fila_n[\"n\"], fila_n[\"m\"], \"TSE-AGM\", memSize, porcentaje_vecindad, i, fila_n[\"archivo\"]]);"
   ]
  },
  {
   "cell_type": "markdown",
   "metadata": {},
   "source": [
    "# Ejecuto los experimentos"
   ]
  },
  {
   "cell_type": "code",
   "execution_count": null,
   "metadata": {},
   "outputs": [],
   "source": [
    "columnas = [\"dataset\", \"caso\", \"n\", \"m\", \"metodo\", \"memSize\",\"porcentajeVecindad\",\"iteraciones\",\"tiempo\",\"costo\"];\n",
    "filas = [];\n",
    "numero = 1\n",
    "T = 5 # Numero de veces que se ejecuta cada experimento (para mayor fidelidad del tiempo).\n",
    "for experimento in experimentos:\n",
    "    # Voy mostrando que experimento se esta ejecutando.\n",
    "    clear_output(wait=True)\n",
    "    display('Experimento: ' + str(numero) + \"/\" + str(len(experimentos)))\n",
    "    numero += 1\n",
    "    \n",
    "    # Ejecutamos el experimento T veces y obtenemos la mediana.\n",
    "    tiempos = []\n",
    "    costo = 0\n",
    "    res = correr_experimento(experimento[4],str(experimento[5]),str(experimento[6]), str(experimento[7]),experimento[8]);#CAMBIO \n",
    "    tiempos.append(res[0]);\n",
    "    costo = res[1]\n",
    "    \n",
    "    tiempo = np.median(tiempos);\n",
    "    filas.append([experimento[0], experimento[1], experimento[2], experimento[3], experimento[4], experimento[5], experimento[6], experimento[7], tiempo, costo]);\n",
    "df_resultado = pd.DataFrame(filas, columns=columnas);\n",
    "df_resultado.to_csv(\"resultados/resultado.csv\", index=False, header=True);"
   ]
  }
 ],
 "metadata": {
  "kernelspec": {
   "display_name": "Python 3",
   "language": "python",
   "name": "python3"
  },
  "language_info": {
   "codemirror_mode": {
    "name": "ipython",
    "version": 3
   },
   "file_extension": ".py",
   "mimetype": "text/x-python",
   "name": "python",
   "nbconvert_exporter": "python",
   "pygments_lexer": "ipython3",
   "version": "3.8.8"
  }
 },
 "nbformat": 4,
 "nbformat_minor": 4
}
