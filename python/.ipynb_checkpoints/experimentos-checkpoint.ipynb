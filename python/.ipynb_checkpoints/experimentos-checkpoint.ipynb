{
 "cells": [
  {
   "cell_type": "code",
   "execution_count": 3,
   "metadata": {},
   "outputs": [],
   "source": [
    "import math, subprocess\n",
    "import pandas as pd\n",
    "import numpy as np\n",
    "from IPython.display import display, clear_output"
   ]
  },
  {
   "cell_type": "code",
   "execution_count": null,
   "metadata": {},
   "outputs": [],
   "source": []
  },
  {
   "cell_type": "code",
   "execution_count": 4,
   "metadata": {},
   "outputs": [],
   "source": [
    "def leer_instancia(path_instancia):\n",
    "    with open(path_instancia, \"r\") as f:\n",
    "        return f.read();\n",
    "\n",
    "df_a280 = pd.read_csv(\"instancias/distance/indice.csv\");\n",
    "#df_densidad_baja = pd.read_csv(\"instancias/densidad-baja/indice.csv\");"
   ]
  },
  {
   "cell_type": "code",
   "execution_count": 5,
   "metadata": {},
   "outputs": [
    {
     "data": {
      "text/html": [
       "<div>\n",
       "<style scoped>\n",
       "    .dataframe tbody tr th:only-of-type {\n",
       "        vertical-align: middle;\n",
       "    }\n",
       "\n",
       "    .dataframe tbody tr th {\n",
       "        vertical-align: top;\n",
       "    }\n",
       "\n",
       "    .dataframe thead th {\n",
       "        text-align: right;\n",
       "    }\n",
       "</style>\n",
       "<table border=\"1\" class=\"dataframe\">\n",
       "  <thead>\n",
       "    <tr style=\"text-align: right;\">\n",
       "      <th></th>\n",
       "      <th>dataset</th>\n",
       "      <th>instancia</th>\n",
       "      <th>n</th>\n",
       "      <th>m</th>\n",
       "      <th>archivo</th>\n",
       "    </tr>\n",
       "  </thead>\n",
       "  <tbody>\n",
       "    <tr>\n",
       "      <th>0</th>\n",
       "      <td>a280</td>\n",
       "      <td>a280-EU21</td>\n",
       "      <td>280</td>\n",
       "      <td>78400</td>\n",
       "      <td>instancias/distance/a280-1.txt</td>\n",
       "    </tr>\n",
       "    <tr>\n",
       "      <th>1</th>\n",
       "      <td>a280</td>\n",
       "      <td>a280-EU22</td>\n",
       "      <td>280</td>\n",
       "      <td>78400</td>\n",
       "      <td>instancias/distance/a280-2.txt</td>\n",
       "    </tr>\n",
       "    <tr>\n",
       "      <th>2</th>\n",
       "      <td>a280</td>\n",
       "      <td>a280-EU23</td>\n",
       "      <td>280</td>\n",
       "      <td>78400</td>\n",
       "      <td>instancias/distance/a280-3.txt</td>\n",
       "    </tr>\n",
       "    <tr>\n",
       "      <th>3</th>\n",
       "      <td>a280</td>\n",
       "      <td>a280-EU24</td>\n",
       "      <td>280</td>\n",
       "      <td>78400</td>\n",
       "      <td>instancias/distance/a280-4.txt</td>\n",
       "    </tr>\n",
       "    <tr>\n",
       "      <th>4</th>\n",
       "      <td>a280</td>\n",
       "      <td>a280-EU25</td>\n",
       "      <td>280</td>\n",
       "      <td>78400</td>\n",
       "      <td>instancias/distance/a280-5.txt</td>\n",
       "    </tr>\n",
       "    <tr>\n",
       "      <th>5</th>\n",
       "      <td>a280</td>\n",
       "      <td>a280-EU26</td>\n",
       "      <td>280</td>\n",
       "      <td>78400</td>\n",
       "      <td>instancias/distance/a280-6.txt</td>\n",
       "    </tr>\n",
       "    <tr>\n",
       "      <th>6</th>\n",
       "      <td>a280</td>\n",
       "      <td>a280-EU27</td>\n",
       "      <td>280</td>\n",
       "      <td>78400</td>\n",
       "      <td>instancias/distance/a280-7.txt</td>\n",
       "    </tr>\n",
       "    <tr>\n",
       "      <th>7</th>\n",
       "      <td>a280</td>\n",
       "      <td>a280-EU28</td>\n",
       "      <td>280</td>\n",
       "      <td>78400</td>\n",
       "      <td>instancias/distance/a280-8.txt</td>\n",
       "    </tr>\n",
       "    <tr>\n",
       "      <th>8</th>\n",
       "      <td>a280</td>\n",
       "      <td>a280-EU29</td>\n",
       "      <td>280</td>\n",
       "      <td>78400</td>\n",
       "      <td>instancias/distance/a280-9.txt</td>\n",
       "    </tr>\n",
       "    <tr>\n",
       "      <th>9</th>\n",
       "      <td>a280</td>\n",
       "      <td>a280-EU210</td>\n",
       "      <td>280</td>\n",
       "      <td>78400</td>\n",
       "      <td>instancias/distance/a280-10.txt</td>\n",
       "    </tr>\n",
       "  </tbody>\n",
       "</table>\n",
       "</div>"
      ],
      "text/plain": [
       "  dataset   instancia    n      m                          archivo\n",
       "0    a280   a280-EU21  280  78400   instancias/distance/a280-1.txt\n",
       "1    a280   a280-EU22  280  78400   instancias/distance/a280-2.txt\n",
       "2    a280   a280-EU23  280  78400   instancias/distance/a280-3.txt\n",
       "3    a280   a280-EU24  280  78400   instancias/distance/a280-4.txt\n",
       "4    a280   a280-EU25  280  78400   instancias/distance/a280-5.txt\n",
       "5    a280   a280-EU26  280  78400   instancias/distance/a280-6.txt\n",
       "6    a280   a280-EU27  280  78400   instancias/distance/a280-7.txt\n",
       "7    a280   a280-EU28  280  78400   instancias/distance/a280-8.txt\n",
       "8    a280   a280-EU29  280  78400   instancias/distance/a280-9.txt\n",
       "9    a280  a280-EU210  280  78400  instancias/distance/a280-10.txt"
      ]
     },
     "execution_count": 5,
     "metadata": {},
     "output_type": "execute_result"
    }
   ],
   "source": [
    "df_a280"
   ]
  },
  {
   "cell_type": "code",
   "execution_count": 6,
   "metadata": {},
   "outputs": [],
   "source": [
    "def correr_experimento(metodo, archivo_instancia):\n",
    "    # Leer archivo de la instancia.\n",
    "    instancia = leer_instancia(archivo_instancia)\n",
    "    \n",
    "    # Crear proceso para ejecutar el codigo.\n",
    "    process = subprocess.Popen([\"../tp2\", metodo], stderr=subprocess.PIPE, stdout=subprocess.PIPE, stdin=subprocess.PIPE, universal_newlines = True)\n",
    "\n",
    "    # Poner la instancia en la entrada estandar.\n",
    "    process.stdin.write(instancia)\n",
    "    process.stdin.flush()\n",
    "\n",
    "    # Correr experimento.\n",
    "    exit_code = process.wait()\n",
    "\n",
    "    # Verificar que el proceso no fallo.\n",
    "    if exit_code != 0: raise(F\"Hubo un error en la experimentacion para el algoritmo: {algoritmo} con la instancia {archivo_instancia}.\")\n",
    "    # Leer salida de STDERR con los tiempos de ejecucion de cada metodo.\n",
    "    tiempo_de_ejecucion = float(process.stderr.read());\n",
    "    costo_ciclo = int(process.stdout.read());\n",
    "    print(costo_ciclo)\n",
    "    process.stdin.close();\n",
    "    process.stdout.close();\n",
    "    process.stderr.close();\n",
    "    instancia = (tiempo_de_ejecucion, costo_ciclo)\n",
    "    return instancia;"
   ]
  },
  {
   "cell_type": "code",
   "execution_count": 7,
   "metadata": {},
   "outputs": [],
   "source": [
    "experimentos = [];"
   ]
  },
  {
   "cell_type": "markdown",
   "metadata": {},
   "source": [
    "# Experimento 1\n",
    "Experimentos para el metodo AGMH"
   ]
  },
  {
   "cell_type": "code",
   "execution_count": 8,
   "metadata": {},
   "outputs": [],
   "source": [
    "for n in range(0, 10):\n",
    "    fila_n = df_a280.iloc[n];\n",
    "    experimentos.append([fila_n[\"dataset\"], n, fila_n[\"m\"], \"AGMH\", fila_n[\"archivo\"]]);"
   ]
  },
  {
   "cell_type": "markdown",
   "metadata": {},
   "source": [
    "# Experimento 2\n",
    "Experimentos para el metodo VMC"
   ]
  },
  {
   "cell_type": "code",
   "execution_count": null,
   "metadata": {},
   "outputs": [],
   "source": [
    "for n in range(0, 10):\n",
    "    fila_n = df_a280.iloc[n];\n",
    "    experimentos.append([fila_n[\"dataset\"], n, fila_n[\"m\"], \"VMC\", fila_n[\"archivo\"]]);"
   ]
  },
  {
   "cell_type": "markdown",
   "metadata": {},
   "source": [
    "# Experimento 3\n",
    "Experimentos para el metodo HI"
   ]
  },
  {
   "cell_type": "code",
   "execution_count": null,
   "metadata": {},
   "outputs": [],
   "source": [
    "for n in range(0, 10):\n",
    "    fila_n = df_a280.iloc[n];\n",
    "    experimentos.append([fila_n[\"dataset\"], n, fila_n[\"m\"], \"HI\", fila_n[\"archivo\"]]);"
   ]
  },
  {
   "cell_type": "markdown",
   "metadata": {},
   "source": [
    "# Experimento 4\n",
    "Experimentos para el metodo TSE-AGM"
   ]
  },
  {
   "cell_type": "code",
   "execution_count": null,
   "metadata": {},
   "outputs": [],
   "source": [
    "for n in range(0, 10):\n",
    "    fila_n = df_a280.iloc[n];\n",
    "    experimentos.append([fila_n[\"dataset\"], n, fila_n[\"m\"], \"TSE-AGM\", fila_n[\"archivo\"]]);"
   ]
  },
  {
   "cell_type": "markdown",
   "metadata": {},
   "source": [
    "# Experimento 5\n",
    "Experimentos para el metodo TSE-VMC"
   ]
  },
  {
   "cell_type": "code",
   "execution_count": null,
   "metadata": {},
   "outputs": [],
   "source": [
    "for n in range(0, 10):\n",
    "    fila_n = df_a280.iloc[n];\n",
    "    experimentos.append([fila_n[\"dataset\"], n, fila_n[\"m\"], \"TSE-VMC\", fila_n[\"archivo\"]]);"
   ]
  },
  {
   "cell_type": "markdown",
   "metadata": {},
   "source": [
    "# Experimento 6\n",
    "Experimentos para el metodo TSE-HI"
   ]
  },
  {
   "cell_type": "code",
   "execution_count": null,
   "metadata": {},
   "outputs": [],
   "source": [
    "for n in range(0, 10):\n",
    "    fila_n = df_a280.iloc[n];\n",
    "    experimentos.append([fila_n[\"dataset\"], n, fila_n[\"m\"], \"TSE-HI\", fila_n[\"archivo\"]]);"
   ]
  },
  {
   "cell_type": "markdown",
   "metadata": {},
   "source": [
    "# Experimento 7\n",
    "Experimentos para el metodo TSC-AGM"
   ]
  },
  {
   "cell_type": "code",
   "execution_count": null,
   "metadata": {},
   "outputs": [],
   "source": [
    "for n in range(0, 10):\n",
    "    fila_n = df_a280.iloc[n];\n",
    "    experimentos.append([fila_n[\"dataset\"], n, fila_n[\"m\"], \"TSC-AGM\", fila_n[\"archivo\"]]);"
   ]
  },
  {
   "cell_type": "markdown",
   "metadata": {},
   "source": [
    "# Experimento 8\n",
    "Experimentos para el metodo TSC-VMC"
   ]
  },
  {
   "cell_type": "code",
   "execution_count": null,
   "metadata": {},
   "outputs": [],
   "source": [
    "for n in range(0, 10):\n",
    "    fila_n = df_a280.iloc[n];\n",
    "    experimentos.append([fila_n[\"dataset\"], n, fila_n[\"m\"], \"TSC-VMC\", fila_n[\"archivo\"]]);"
   ]
  },
  {
   "cell_type": "markdown",
   "metadata": {},
   "source": [
    "# Experimento 9\n",
    "Experimentos para el metodo TSC-HI"
   ]
  },
  {
   "cell_type": "code",
   "execution_count": null,
   "metadata": {},
   "outputs": [],
   "source": [
    "for n in range(0, 10):\n",
    "    fila_n = df_a280.iloc[n];\n",
    "    experimentos.append([fila_n[\"dataset\"], n, fila_n[\"m\"], \"TSC-HI\", fila_n[\"archivo\"]]);"
   ]
  },
  {
   "cell_type": "code",
   "execution_count": null,
   "metadata": {},
   "outputs": [],
   "source": []
  },
  {
   "cell_type": "code",
   "execution_count": null,
   "metadata": {},
   "outputs": [
    {
     "data": {
      "text/plain": [
       "'Experimento: 10/10'"
      ]
     },
     "metadata": {},
     "output_type": "display_data"
    },
    {
     "name": "stdout",
     "output_type": "stream",
     "text": [
      "1\n",
      "1\n",
      "1\n",
      "1\n",
      "1\n"
     ]
    }
   ],
   "source": [
    "columnas = [\"dataset\", \"n\", \"m\", \"metodo\", \"tiempo\",\"costo\"];\n",
    "filas = [];\n",
    "numero = 1\n",
    "T = 5 # Numero de veces que se ejecuta cada experimento (para mayor fidelidad del tiempo).\n",
    "for experimento in experimentos:\n",
    "    # Voy mostrando que experimento se esta ejecutando.\n",
    "    clear_output(wait=True)\n",
    "    display('Experimento: ' + str(numero) + \"/\" + str(len(experimentos)))\n",
    "    numero += 1\n",
    "    \n",
    "    # Ejecutamos el experimento T veces y obtenemos la mediana.\n",
    "    tiempos = []\n",
    "    costo = 0\n",
    "    for i in range(0, T):\n",
    "        res = correr_experimento(experimento[3],experimento[4]);\n",
    "        tiempos.append(res[0]);\n",
    "        costo = res[1]\n",
    "    tiempo = np.median(tiempos);\n",
    "    filas.append([experimento[0], experimento[1], experimento[2], experimento[3], tiempo,costo]);\n",
    "df_resultado = pd.DataFrame(filas, columns=columnas);\n",
    "df_resultado.to_csv(\"resultados/resultado.csv\", index=False, header=True);"
   ]
  },
  {
   "cell_type": "code",
   "execution_count": null,
   "metadata": {},
   "outputs": [],
   "source": []
  },
  {
   "cell_type": "code",
   "execution_count": null,
   "metadata": {},
   "outputs": [],
   "source": []
  },
  {
   "cell_type": "code",
   "execution_count": null,
   "metadata": {},
   "outputs": [],
   "source": []
  },
  {
   "cell_type": "code",
   "execution_count": null,
   "metadata": {},
   "outputs": [],
   "source": []
  },
  {
   "cell_type": "code",
   "execution_count": null,
   "metadata": {},
   "outputs": [],
   "source": []
  },
  {
   "cell_type": "code",
   "execution_count": null,
   "metadata": {},
   "outputs": [],
   "source": []
  }
 ],
 "metadata": {
  "kernelspec": {
   "display_name": "Python 3",
   "language": "python",
   "name": "python3"
  },
  "language_info": {
   "codemirror_mode": {
    "name": "ipython",
    "version": 3
   },
   "file_extension": ".py",
   "mimetype": "text/x-python",
   "name": "python",
   "nbconvert_exporter": "python",
   "pygments_lexer": "ipython3",
   "version": "3.8.5"
  }
 },
 "nbformat": 4,
 "nbformat_minor": 4
}
