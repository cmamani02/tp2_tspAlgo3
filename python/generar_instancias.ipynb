{
 "cells": [
  {
   "cell_type": "code",
   "execution_count": 5,
   "metadata": {},
   "outputs": [],
   "source": [
    "import random, math\n",
    "import pandas as pd\n",
    "import tsplib95"
   ]
  },
  {
   "cell_type": "code",
   "execution_count": 6,
   "metadata": {},
   "outputs": [],
   "source": [
    "def save_instance(dataset, instance_name, n, m,instances):\n",
    "    with open(F\"instancias/{dataset}/{instance_name}.txt\", \"w\") as f:\n",
    "        print(n, m, file=f)\n",
    "        for values in instances: \n",
    "            print(values[0],values[1],values[2],file=f)\n",
    "            \n",
    "\n",
    "def save_index(dataset, instances):\n",
    "    with open(F\"instancias/{dataset}/instances.txt\", \"w\") as f:\n",
    "        for instance in instances: \n",
    "            print(instance, file=f)"
   ]
  },
  {
   "cell_type": "markdown",
   "metadata": {},
   "source": [
    "## Dataset 1\n",
    "#### EDGE_WEIGHT_TYPE: EUC_2D"
   ]
  },
  {
   "cell_type": "code",
   "execution_count": 16,
   "metadata": {},
   "outputs": [],
   "source": [
    "filas_indice = []\n",
    "problem = tsplib95.load('tsp_instances/a280.tsp')\n",
    "instance_name = problem.name #nombre de la instancia\n",
    "nodes = list(problem.get_nodes()) #genera los nodos del grafo\n",
    "edges = list(problem.get_edges()) #genera aristas de un gafo completo\n",
    "n = len(nodes)\n",
    "m = len(edges)\n",
    "instance = []\n",
    "for edge in edges:\n",
    "    weight = problem.get_weight(*edge) #calcula el peso de la arista pasada como parametro\n",
    "    edge_weight = edge[0],edge[1],weight #general los valores (i,j,c)\n",
    "    instance.append(edge_weight)\n",
    "for i in range(1, 11):\n",
    "    save_instance(\"distance\", F\"{instance_name}-{i}\",n, m, instance)\n",
    "    filas_indice.append([\"a280\", F\"a280-EU2{i}\", n, m, F\"instancias/distance/a280-{i}.txt\"])\n",
    "pd.DataFrame(filas_indice, columns=[\"dataset\", \"instancia\", \"n\", \"m\", \"archivo\"]).to_csv(\"instancias/distance/indice.csv\", index=False, header=True)"
   ]
  },
  {
   "cell_type": "markdown",
   "metadata": {},
   "source": [
    "## Dataset 2\n",
    "#### EDGE_WEIGHT_FORMAT: UPPER_ROW "
   ]
  },
  {
   "cell_type": "code",
   "execution_count": 78,
   "metadata": {},
   "outputs": [],
   "source": [
    "problem2 = tsplib95.load('tsp_instances/bayg29.tsp')\n",
    "instance_name = problem2.name #nombre de la instancia\n",
    "nodes = list(problem2.get_nodes()) #genera los nodos del grafo\n",
    "edges = list(problem2.get_edges()) #genera aristas de un gafo completo\n",
    "n = len(nodes)\n",
    "m = len(edges)\n",
    "instance = []\n",
    "for edge in edges:\n",
    "    weight = problem.get_weight(*edge) #calcula el peso de la arista pasada como parametro\n",
    "    edge_weight = edge[0],edge[1],weight #general los valores (i,j,c)\n",
    "    instance.append(edge_weight)\n",
    "save_instance(\"distance\", F\"{instance_name}-{n}\",n, m, instance)"
   ]
  },
  {
   "cell_type": "code",
   "execution_count": null,
   "metadata": {},
   "outputs": [],
   "source": []
  }
 ],
 "metadata": {
  "kernelspec": {
   "display_name": "Python 3",
   "language": "python",
   "name": "python3"
  },
  "language_info": {
   "codemirror_mode": {
    "name": "ipython",
    "version": 3
   },
   "file_extension": ".py",
   "mimetype": "text/x-python",
   "name": "python",
   "nbconvert_exporter": "python",
   "pygments_lexer": "ipython3",
   "version": "3.8.5"
  }
 },
 "nbformat": 4,
 "nbformat_minor": 4
}
