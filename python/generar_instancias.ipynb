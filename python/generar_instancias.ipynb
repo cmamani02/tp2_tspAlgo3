{
 "cells": [
  {
   "cell_type": "code",
   "execution_count": 1,
   "metadata": {},
   "outputs": [],
   "source": [
    "import random, math\n",
    "import pandas as pd\n",
    "import tsplib95 as tl\n",
    "import numpy as np"
   ]
  },
  {
   "cell_type": "code",
   "execution_count": 2,
   "metadata": {},
   "outputs": [],
   "source": [
    "def save_instance(instance_name, n, m,instances):\n",
    "    with open(F\"tsp_random_txt/{instance_name}.txt\", \"w\") as f:\n",
    "        print(n, m, file=f)\n",
    "        for values in instances:\n",
    "            print(values[0],values[1],values[2],file=f)       \n",
    "\n",
    "def save_index(dataset, instances):\n",
    "    with open(F\"instancias/{dataset}/instances.txt\", \"w\") as f:\n",
    "        for instance in instances: \n",
    "            print(instance, file=f)"
   ]
  },
  {
   "cell_type": "markdown",
   "metadata": {},
   "source": [
    "Codigo para leer instancias del laboratorio"
   ]
  },
  {
   "cell_type": "code",
   "execution_count": 3,
   "metadata": {},
   "outputs": [],
   "source": [
    "def generar_instancia(archivo_entrada, archivo_salida):\n",
    "    prob = tl.load(archivo_entrada)\n",
    "    salida = open(archivo_salida,'w')\n",
    "\n",
    "    grafo = prob.get_graph()\n",
    "    n = grafo.number_of_nodes()\n",
    "    m = grafo.number_of_edges()-n\n",
    "    print(n,m, file=salida)\n",
    "    for u,v in grafo.edges:\n",
    "        if u<v:\n",
    "            print(u,v,grafo.get_edge_data(u,v)['weight'], file=salida)\n",
    "            \n",
    "    return grafo"
   ]
  },
  {
   "cell_type": "markdown",
   "metadata": {},
   "source": [
    "## Dataset 1\n",
    "Bayg29 \n",
    "\n",
    "OBS: en la linea final, todo se guardaba en indice.csv, ahora se guarda en indice_bayg29.csv"
   ]
  },
  {
   "cell_type": "code",
   "execution_count": 11,
   "metadata": {},
   "outputs": [],
   "source": [
    "\n",
    "grafo = generar_instancia(archivo_entrada='./tsp_instances_tsp/bayg29.tsp' , archivo_salida='./tsp_instances_txt/bayg29.txt')\n",
    "n = grafo.number_of_nodes()\n",
    "m = grafo.number_of_edges()-n #AGREGO: le resto n como en la funcion generar_instancia\n",
    "filas_indice = []\n",
    "filas_indice.append([\"bayg29\", n, m, F\"tsp_instances_txt/bayg29.txt\"]) \n",
    "\n",
    "pd.DataFrame(filas_indice, columns=[\"dataset\", \"n\", \"m\", \"archivo\"]).to_csv(\"tsp_instances_txt/indice_bayg29.csv\", index=False, header=True)\n",
    "\n"
   ]
  },
  {
   "cell_type": "markdown",
   "metadata": {},
   "source": [
    "## Dataset 2\n",
    "a280"
   ]
  },
  {
   "cell_type": "code",
   "execution_count": 12,
   "metadata": {},
   "outputs": [],
   "source": [
    "grafo = generar_instancia(archivo_entrada='./tsp_instances_tsp/a280.tsp' , archivo_salida='./tsp_instances_txt/a280.txt')\n",
    "n = grafo.number_of_nodes()\n",
    "m = grafo.number_of_edges()-n #AGREGO: le resto n como en la funcion generar_instancia\n",
    "filas_indice = []\n",
    "filas_indice.append([\"a280\", n, m, F\"tsp_instances_txt/a280.txt\"]) \n",
    "\n",
    "pd.DataFrame(filas_indice, columns=[\"dataset\", \"n\", \"m\", \"archivo\"]).to_csv(\"tsp_instances_txt/indice_a280.csv\", index=False, header=True)"
   ]
  },
  {
   "cell_type": "markdown",
   "metadata": {},
   "source": [
    "## Dataset 3\n",
    "berlin52"
   ]
  },
  {
   "cell_type": "code",
   "execution_count": 13,
   "metadata": {},
   "outputs": [],
   "source": [
    "grafo = generar_instancia(archivo_entrada='./tsp_instances_tsp/berlin52.tsp' , archivo_salida='./tsp_instances_txt/berlin52.txt')\n",
    "n = grafo.number_of_nodes()\n",
    "m = grafo.number_of_edges()-n #AGREGO: le resto n como en la funcion generar_instancia\n",
    "filas_indice = []\n",
    "filas_indice.append([\"berlin52\", n, m, F\"tsp_instances_txt/berlin52.txt\"]) #una sola vez\n",
    "\n",
    "pd.DataFrame(filas_indice, columns=[\"dataset\", \"n\", \"m\", \"archivo\"]).to_csv(\"tsp_instances_txt/indice_berlin52.csv\", index=False, header=True)"
   ]
  },
  {
   "cell_type": "markdown",
   "metadata": {},
   "source": [
    "## Dataset 3\n",
    "Instancias Generadas de manera aleatoria"
   ]
  },
  {
   "cell_type": "markdown",
   "metadata": {},
   "source": [
    "#### Instancias para heuristicas"
   ]
  },
  {
   "cell_type": "code",
   "execution_count": 4,
   "metadata": {},
   "outputs": [
    {
     "ename": "FileNotFoundError",
     "evalue": "[Errno 2] No such file or directory: 'tsp_random_txt/20-1.txt'",
     "output_type": "error",
     "traceback": [
      "\u001b[0;31m---------------------------------------------------------------------------\u001b[0m",
      "\u001b[0;31mFileNotFoundError\u001b[0m                         Traceback (most recent call last)",
      "\u001b[0;32m<ipython-input-4-b7f9148dd072>\u001b[0m in \u001b[0;36m<module>\u001b[0;34m\u001b[0m\n\u001b[1;32m     14\u001b[0m                     \u001b[0mvalues\u001b[0m\u001b[0;34m.\u001b[0m\u001b[0mappend\u001b[0m\u001b[0;34m(\u001b[0m\u001b[0medge_weight\u001b[0m\u001b[0;34m)\u001b[0m\u001b[0;34m\u001b[0m\u001b[0;34m\u001b[0m\u001b[0m\n\u001b[1;32m     15\u001b[0m         \u001b[0mm\u001b[0m \u001b[0;34m=\u001b[0m \u001b[0mlen\u001b[0m\u001b[0;34m(\u001b[0m\u001b[0mvalues\u001b[0m\u001b[0;34m)\u001b[0m\u001b[0;34m\u001b[0m\u001b[0;34m\u001b[0m\u001b[0m\n\u001b[0;32m---> 16\u001b[0;31m         \u001b[0msave_instance\u001b[0m\u001b[0;34m(\u001b[0m\u001b[0;34mF\"{n}-{t}\"\u001b[0m\u001b[0;34m,\u001b[0m\u001b[0mn\u001b[0m\u001b[0;34m,\u001b[0m\u001b[0mm\u001b[0m\u001b[0;34m,\u001b[0m \u001b[0mvalues\u001b[0m\u001b[0;34m)\u001b[0m\u001b[0;34m\u001b[0m\u001b[0;34m\u001b[0m\u001b[0m\n\u001b[0m\u001b[1;32m     17\u001b[0m         \u001b[0mfilas_indice\u001b[0m\u001b[0;34m.\u001b[0m\u001b[0mappend\u001b[0m\u001b[0;34m(\u001b[0m\u001b[0;34m[\u001b[0m\u001b[0;34mF\"{n}-{t}\"\u001b[0m\u001b[0;34m,\u001b[0m \u001b[0mn\u001b[0m\u001b[0;34m,\u001b[0m \u001b[0mm\u001b[0m\u001b[0;34m,\u001b[0m \u001b[0;34mF\"tsp_random_txt/{n}-{t}.txt\"\u001b[0m\u001b[0;34m]\u001b[0m\u001b[0;34m)\u001b[0m \u001b[0;31m#una sola vez\u001b[0m\u001b[0;34m\u001b[0m\u001b[0;34m\u001b[0m\u001b[0m\n\u001b[1;32m     18\u001b[0m \u001b[0mpd\u001b[0m\u001b[0;34m.\u001b[0m\u001b[0mDataFrame\u001b[0m\u001b[0;34m(\u001b[0m\u001b[0mfilas_indice\u001b[0m\u001b[0;34m,\u001b[0m \u001b[0mcolumns\u001b[0m\u001b[0;34m=\u001b[0m\u001b[0;34m[\u001b[0m\u001b[0;34m\"dataset\"\u001b[0m\u001b[0;34m,\u001b[0m \u001b[0;34m\"n\"\u001b[0m\u001b[0;34m,\u001b[0m \u001b[0;34m\"m\"\u001b[0m\u001b[0;34m,\u001b[0m \u001b[0;34m\"archivo\"\u001b[0m\u001b[0;34m]\u001b[0m\u001b[0;34m)\u001b[0m\u001b[0;34m.\u001b[0m\u001b[0mto_csv\u001b[0m\u001b[0;34m(\u001b[0m\u001b[0;34m\"tsp_random_txt/indice_random.csv\"\u001b[0m\u001b[0;34m,\u001b[0m \u001b[0mindex\u001b[0m\u001b[0;34m=\u001b[0m\u001b[0;32mFalse\u001b[0m\u001b[0;34m,\u001b[0m \u001b[0mheader\u001b[0m\u001b[0;34m=\u001b[0m\u001b[0;32mTrue\u001b[0m\u001b[0;34m)\u001b[0m\u001b[0;34m\u001b[0m\u001b[0;34m\u001b[0m\u001b[0m\n",
      "\u001b[0;32m<ipython-input-2-f40a180eb90e>\u001b[0m in \u001b[0;36msave_instance\u001b[0;34m(instance_name, n, m, instances)\u001b[0m\n\u001b[1;32m      1\u001b[0m \u001b[0;32mdef\u001b[0m \u001b[0msave_instance\u001b[0m\u001b[0;34m(\u001b[0m\u001b[0minstance_name\u001b[0m\u001b[0;34m,\u001b[0m \u001b[0mn\u001b[0m\u001b[0;34m,\u001b[0m \u001b[0mm\u001b[0m\u001b[0;34m,\u001b[0m\u001b[0minstances\u001b[0m\u001b[0;34m)\u001b[0m\u001b[0;34m:\u001b[0m\u001b[0;34m\u001b[0m\u001b[0;34m\u001b[0m\u001b[0m\n\u001b[0;32m----> 2\u001b[0;31m     \u001b[0;32mwith\u001b[0m \u001b[0mopen\u001b[0m\u001b[0;34m(\u001b[0m\u001b[0;34mF\"tsp_random_txt/{instance_name}.txt\"\u001b[0m\u001b[0;34m,\u001b[0m \u001b[0;34m\"w\"\u001b[0m\u001b[0;34m)\u001b[0m \u001b[0;32mas\u001b[0m \u001b[0mf\u001b[0m\u001b[0;34m:\u001b[0m\u001b[0;34m\u001b[0m\u001b[0;34m\u001b[0m\u001b[0m\n\u001b[0m\u001b[1;32m      3\u001b[0m         \u001b[0mprint\u001b[0m\u001b[0;34m(\u001b[0m\u001b[0mn\u001b[0m\u001b[0;34m,\u001b[0m \u001b[0mm\u001b[0m\u001b[0;34m,\u001b[0m \u001b[0mfile\u001b[0m\u001b[0;34m=\u001b[0m\u001b[0mf\u001b[0m\u001b[0;34m)\u001b[0m\u001b[0;34m\u001b[0m\u001b[0;34m\u001b[0m\u001b[0m\n\u001b[1;32m      4\u001b[0m         \u001b[0;32mfor\u001b[0m \u001b[0mvalues\u001b[0m \u001b[0;32min\u001b[0m \u001b[0minstances\u001b[0m\u001b[0;34m:\u001b[0m\u001b[0;34m\u001b[0m\u001b[0;34m\u001b[0m\u001b[0m\n\u001b[1;32m      5\u001b[0m             \u001b[0mprint\u001b[0m\u001b[0;34m(\u001b[0m\u001b[0mvalues\u001b[0m\u001b[0;34m[\u001b[0m\u001b[0;36m0\u001b[0m\u001b[0;34m]\u001b[0m\u001b[0;34m,\u001b[0m\u001b[0mvalues\u001b[0m\u001b[0;34m[\u001b[0m\u001b[0;36m1\u001b[0m\u001b[0;34m]\u001b[0m\u001b[0;34m,\u001b[0m\u001b[0mvalues\u001b[0m\u001b[0;34m[\u001b[0m\u001b[0;36m2\u001b[0m\u001b[0;34m]\u001b[0m\u001b[0;34m,\u001b[0m\u001b[0mfile\u001b[0m\u001b[0;34m=\u001b[0m\u001b[0mf\u001b[0m\u001b[0;34m)\u001b[0m\u001b[0;34m\u001b[0m\u001b[0;34m\u001b[0m\u001b[0m\n",
      "\u001b[0;31mFileNotFoundError\u001b[0m: [Errno 2] No such file or directory: 'tsp_random_txt/20-1.txt'"
     ]
    }
   ],
   "source": [
    "filas_indice = []\n",
    "rango_n = np.array(np.arange(20, 81, 10))\n",
    "for n in rango_n:\n",
    "    for t in range(1,101): #genero 100 instancias distintas de tamaño n\n",
    "        values = []\n",
    "        np.random.seed(t)\n",
    "        costos =np.random.randint(0,3*n, size=n*n)\n",
    "        idx_cost = 0\n",
    "        for i in range(1,n+1):\n",
    "            for j in range(1,n+1):\n",
    "                if i < j :\n",
    "                    edge_weight = i,j,costos[idx_cost]\n",
    "                    idx_cost += 1\n",
    "                    values.append(edge_weight)\n",
    "        m = len(values)\n",
    "        save_instance(F\"{n}-{t}\",n,m, values)\n",
    "        filas_indice.append([F\"{n}-{t}\", n, m, F\"tsp_random_txt/{n}-{t}.txt\"]) #una sola vez\n",
    "pd.DataFrame(filas_indice, columns=[\"dataset\", \"n\", \"m\", \"archivo\"]).to_csv(\"tsp_random_txt/indice_random.csv\", index=False, header=True)\n"
   ]
  },
  {
   "cell_type": "markdown",
   "metadata": {},
   "source": [
    "#### Instancias para metaheuristicas\n",
    "Los parametros correspondiente a memoria,porcentaje vecindad e iteraciones se definen en la etapa experimental"
   ]
  },
  {
   "cell_type": "code",
   "execution_count": 5,
   "metadata": {},
   "outputs": [
    {
     "ename": "FileNotFoundError",
     "evalue": "[Errno 2] No such file or directory: 'tsp_random_txt/10-1.txt'",
     "output_type": "error",
     "traceback": [
      "\u001b[0;31m---------------------------------------------------------------------------\u001b[0m",
      "\u001b[0;31mFileNotFoundError\u001b[0m                         Traceback (most recent call last)",
      "\u001b[0;32m<ipython-input-5-0b884e8ca785>\u001b[0m in \u001b[0;36m<module>\u001b[0;34m\u001b[0m\n\u001b[1;32m     14\u001b[0m                     \u001b[0mvalues\u001b[0m\u001b[0;34m.\u001b[0m\u001b[0mappend\u001b[0m\u001b[0;34m(\u001b[0m\u001b[0medge_weight\u001b[0m\u001b[0;34m)\u001b[0m\u001b[0;34m\u001b[0m\u001b[0;34m\u001b[0m\u001b[0m\n\u001b[1;32m     15\u001b[0m         \u001b[0mm\u001b[0m \u001b[0;34m=\u001b[0m \u001b[0mlen\u001b[0m\u001b[0;34m(\u001b[0m\u001b[0mvalues\u001b[0m\u001b[0;34m)\u001b[0m\u001b[0;34m\u001b[0m\u001b[0;34m\u001b[0m\u001b[0m\n\u001b[0;32m---> 16\u001b[0;31m         \u001b[0msave_instance\u001b[0m\u001b[0;34m(\u001b[0m\u001b[0;34mF\"{n}-{t}\"\u001b[0m\u001b[0;34m,\u001b[0m\u001b[0mn\u001b[0m\u001b[0;34m,\u001b[0m\u001b[0mm\u001b[0m\u001b[0;34m,\u001b[0m \u001b[0mvalues\u001b[0m\u001b[0;34m)\u001b[0m\u001b[0;34m\u001b[0m\u001b[0;34m\u001b[0m\u001b[0m\n\u001b[0m\u001b[1;32m     17\u001b[0m         \u001b[0mfilas_indice\u001b[0m\u001b[0;34m.\u001b[0m\u001b[0mappend\u001b[0m\u001b[0;34m(\u001b[0m\u001b[0;34m[\u001b[0m\u001b[0;34mF\"{n}-{t}\"\u001b[0m\u001b[0;34m,\u001b[0m \u001b[0mn\u001b[0m\u001b[0;34m,\u001b[0m \u001b[0mm\u001b[0m\u001b[0;34m,\u001b[0m \u001b[0;34mF\"tsp_random_txt/{n}-{t}.txt\"\u001b[0m\u001b[0;34m]\u001b[0m\u001b[0;34m)\u001b[0m \u001b[0;31m#una sola vez\u001b[0m\u001b[0;34m\u001b[0m\u001b[0;34m\u001b[0m\u001b[0m\n\u001b[1;32m     18\u001b[0m \u001b[0mpd\u001b[0m\u001b[0;34m.\u001b[0m\u001b[0mDataFrame\u001b[0m\u001b[0;34m(\u001b[0m\u001b[0mfilas_indice\u001b[0m\u001b[0;34m,\u001b[0m \u001b[0mcolumns\u001b[0m\u001b[0;34m=\u001b[0m\u001b[0;34m[\u001b[0m\u001b[0;34m\"dataset\"\u001b[0m\u001b[0;34m,\u001b[0m \u001b[0;34m\"n\"\u001b[0m\u001b[0;34m,\u001b[0m \u001b[0;34m\"m\"\u001b[0m\u001b[0;34m,\u001b[0m \u001b[0;34m\"archivo\"\u001b[0m\u001b[0;34m]\u001b[0m\u001b[0;34m)\u001b[0m\u001b[0;34m.\u001b[0m\u001b[0mto_csv\u001b[0m\u001b[0;34m(\u001b[0m\u001b[0;34m\"tsp_random_txt/indice_random.csv\"\u001b[0m\u001b[0;34m,\u001b[0m \u001b[0mindex\u001b[0m\u001b[0;34m=\u001b[0m\u001b[0;32mFalse\u001b[0m\u001b[0;34m,\u001b[0m \u001b[0mheader\u001b[0m\u001b[0;34m=\u001b[0m\u001b[0;32mTrue\u001b[0m\u001b[0;34m)\u001b[0m\u001b[0;34m\u001b[0m\u001b[0;34m\u001b[0m\u001b[0m\n",
      "\u001b[0;32m<ipython-input-2-f40a180eb90e>\u001b[0m in \u001b[0;36msave_instance\u001b[0;34m(instance_name, n, m, instances)\u001b[0m\n\u001b[1;32m      1\u001b[0m \u001b[0;32mdef\u001b[0m \u001b[0msave_instance\u001b[0m\u001b[0;34m(\u001b[0m\u001b[0minstance_name\u001b[0m\u001b[0;34m,\u001b[0m \u001b[0mn\u001b[0m\u001b[0;34m,\u001b[0m \u001b[0mm\u001b[0m\u001b[0;34m,\u001b[0m\u001b[0minstances\u001b[0m\u001b[0;34m)\u001b[0m\u001b[0;34m:\u001b[0m\u001b[0;34m\u001b[0m\u001b[0;34m\u001b[0m\u001b[0m\n\u001b[0;32m----> 2\u001b[0;31m     \u001b[0;32mwith\u001b[0m \u001b[0mopen\u001b[0m\u001b[0;34m(\u001b[0m\u001b[0;34mF\"tsp_random_txt/{instance_name}.txt\"\u001b[0m\u001b[0;34m,\u001b[0m \u001b[0;34m\"w\"\u001b[0m\u001b[0;34m)\u001b[0m \u001b[0;32mas\u001b[0m \u001b[0mf\u001b[0m\u001b[0;34m:\u001b[0m\u001b[0;34m\u001b[0m\u001b[0;34m\u001b[0m\u001b[0m\n\u001b[0m\u001b[1;32m      3\u001b[0m         \u001b[0mprint\u001b[0m\u001b[0;34m(\u001b[0m\u001b[0mn\u001b[0m\u001b[0;34m,\u001b[0m \u001b[0mm\u001b[0m\u001b[0;34m,\u001b[0m \u001b[0mfile\u001b[0m\u001b[0;34m=\u001b[0m\u001b[0mf\u001b[0m\u001b[0;34m)\u001b[0m\u001b[0;34m\u001b[0m\u001b[0;34m\u001b[0m\u001b[0m\n\u001b[1;32m      4\u001b[0m         \u001b[0;32mfor\u001b[0m \u001b[0mvalues\u001b[0m \u001b[0;32min\u001b[0m \u001b[0minstances\u001b[0m\u001b[0;34m:\u001b[0m\u001b[0;34m\u001b[0m\u001b[0;34m\u001b[0m\u001b[0m\n\u001b[1;32m      5\u001b[0m             \u001b[0mprint\u001b[0m\u001b[0;34m(\u001b[0m\u001b[0mvalues\u001b[0m\u001b[0;34m[\u001b[0m\u001b[0;36m0\u001b[0m\u001b[0;34m]\u001b[0m\u001b[0;34m,\u001b[0m\u001b[0mvalues\u001b[0m\u001b[0;34m[\u001b[0m\u001b[0;36m1\u001b[0m\u001b[0;34m]\u001b[0m\u001b[0;34m,\u001b[0m\u001b[0mvalues\u001b[0m\u001b[0;34m[\u001b[0m\u001b[0;36m2\u001b[0m\u001b[0;34m]\u001b[0m\u001b[0;34m,\u001b[0m\u001b[0mfile\u001b[0m\u001b[0;34m=\u001b[0m\u001b[0mf\u001b[0m\u001b[0;34m)\u001b[0m\u001b[0;34m\u001b[0m\u001b[0;34m\u001b[0m\u001b[0m\n",
      "\u001b[0;31mFileNotFoundError\u001b[0m: [Errno 2] No such file or directory: 'tsp_random_txt/10-1.txt'"
     ]
    }
   ],
   "source": [
    "filas_indice = []\n",
    "rango_n = np.array(np.arange(10, 110, 10))\n",
    "for n in rango_n:\n",
    "    for t in range(1,11): #genero 10instancias distintas de tamaño n\n",
    "        values = []\n",
    "        np.random.seed(t)\n",
    "        costos =np.random.randint(0,2*n, size=n*n)\n",
    "        idx_cost = 0\n",
    "        for i in range(1,n+1):\n",
    "            for j in range(1,n+1):\n",
    "                if i < j :\n",
    "                    edge_weight = i,j,costos[idx_cost]\n",
    "                    idx_cost += 1\n",
    "                    values.append(edge_weight)\n",
    "        m = len(values)\n",
    "        save_instance(F\"{n}-{t}\",n,m, values)\n",
    "        filas_indice.append([F\"{n}-{t}\", n, m, F\"tsp_random_txt/{n}-{t}.txt\"]) #una sola vez\n",
    "pd.DataFrame(filas_indice, columns=[\"dataset\", \"n\", \"m\", \"archivo\"]).to_csv(\"tsp_random_txt/indice_random.csv\", index=False, header=True)\n"
   ]
  },
  {
   "cell_type": "code",
   "execution_count": null,
   "metadata": {},
   "outputs": [],
   "source": []
  },
  {
   "cell_type": "code",
   "execution_count": null,
   "metadata": {},
   "outputs": [],
   "source": [
    "grafo = generar_instancia(archivo_entrada='./tsp_instances_tsp/burma14.tsp' , archivo_salida='./tsp_instances_txt/burma14.txt')\n",
    "n = grafo.number_of_nodes()\n",
    "m = grafo.number_of_edges()-n\n",
    "filas_indice = []\n",
    "filas_indice.append([\"burma14\", n, m, F\"tsp_instances_txt/burma14.txt\"])\n",
    "pd.DataFrame(filas_indice, columns=[\"dataset\", \"n\", \"m\", \"archivo\"]).to_csv(\"tsp_instances_txt/burma14.csv\", index=False, header=True)"
   ]
  },
  {
   "cell_type": "code",
   "execution_count": null,
   "metadata": {},
   "outputs": [],
   "source": [
    "grafo = generar_instancia(archivo_entrada='./tsp_instances_tsp/att48.tsp' , archivo_salida='./tsp_instances_txt/att48.txt')\n",
    "n = grafo.number_of_nodes()\n",
    "m = grafo.number_of_edges()-n\n",
    "filas_indice = []\n",
    "filas_indice.append([\"att48\", n, m, F\"tsp_instances_txt/att48.txt\"])\n",
    "pd.DataFrame(filas_indice, columns=[\"dataset\", \"n\", \"m\", \"archivo\"]).to_csv(\"tsp_instances_txt/att48.csv\", index=False, header=True)"
   ]
  },
  {
   "cell_type": "code",
   "execution_count": null,
   "metadata": {},
   "outputs": [],
   "source": [
    "grafo = generar_instancia(archivo_entrada='./tsp_instances_tsp/berlin52.tsp' , archivo_salida='./tsp_instances_txt/berlin52.txt')\n",
    "n = grafo.number_of_nodes()\n",
    "m = grafo.number_of_edges()-n\n",
    "filas_indice = []\n",
    "filas_indice.append([\"berlin52\", n, m, F\"tsp_instances_txt/berlin52.txt\"])\n",
    "pd.DataFrame(filas_indice, columns=[\"dataset\", \"n\", \"m\", \"archivo\"]).to_csv(\"tsp_instances_txt/berlin52.csv\", index=False, header=True)"
   ]
  },
  {
   "cell_type": "code",
   "execution_count": null,
   "metadata": {},
   "outputs": [],
   "source": [
    "grafo = generar_instancia(archivo_entrada='./tsp_instances_tsp/eil76.tsp' , archivo_salida='./tsp_instances_txt/eil76.txt')\n",
    "n = grafo.number_of_nodes()\n",
    "m = grafo.number_of_edges()-n\n",
    "filas_indice = []\n",
    "filas_indice.append([\"eil76\", n, m, F\"tsp_instances_txt/eil76.txt\"])\n",
    "pd.DataFrame(filas_indice, columns=[\"dataset\", \"n\", \"m\", \"archivo\"]).to_csv(\"tsp_instances_txt/eil76.csv\", index=False, header=True)"
   ]
  },
  {
   "cell_type": "code",
   "execution_count": null,
   "metadata": {},
   "outputs": [],
   "source": [
    "grafo = generar_instancia(archivo_entrada='./tsp_instances_tsp/gr96.tsp' , archivo_salida='./tsp_instances_txt/gr96.txt')\n",
    "n = grafo.number_of_nodes()\n",
    "m = grafo.number_of_edges()-n\n",
    "filas_indice = []\n",
    "filas_indice.append([\"gr96\", n, m, F\"tsp_instances_txt/gr96.txt\"])\n",
    "pd.DataFrame(filas_indice, columns=[\"dataset\", \"n\", \"m\", \"archivo\"]).to_csv(\"tsp_instances_txt/gr96.csv\", index=False, header=True)"
   ]
  },
  {
   "cell_type": "code",
   "execution_count": null,
   "metadata": {},
   "outputs": [],
   "source": [
    "grafo = generar_instancia(archivo_entrada='./tsp_instances_tsp/bier127.tsp' , archivo_salida='./tsp_instances_txt/bier127.txt')\n",
    "n = grafo.number_of_nodes()\n",
    "m = grafo.number_of_edges()-n\n",
    "filas_indice = []\n",
    "filas_indice.append([\"bier127\", n, m, F\"tsp_instances_txt/bier127.txt\"])\n",
    "pd.DataFrame(filas_indice, columns=[\"dataset\", \"n\", \"m\", \"archivo\"]).to_csv(\"tsp_instances_txt/bier127.csv\", index=False, header=True)"
   ]
  },
  {
   "cell_type": "code",
   "execution_count": null,
   "metadata": {},
   "outputs": [],
   "source": [
    "grafo = generar_instancia(archivo_entrada='./tsp_instances_tsp/a280.tsp' , archivo_salida='./tsp_instances_txt/a280.txt')\n",
    "n = grafo.number_of_nodes()\n",
    "m = grafo.number_of_edges()-n\n",
    "filas_indice = []\n",
    "filas_indice.append([\"a280\", n, m, F\"tsp_instances_txt/a280.txt\"])\n",
    "pd.DataFrame(filas_indice, columns=[\"dataset\", \"n\", \"m\", \"archivo\"]).to_csv(\"tsp_instances_txt/indice.csv\", index=False, header=True)\n"
   ]
  }
 ],
 "metadata": {
  "kernelspec": {
   "display_name": "Python 3",
   "language": "python",
   "name": "python3"
  },
  "language_info": {
   "codemirror_mode": {
    "name": "ipython",
    "version": 3
   },
   "file_extension": ".py",
   "mimetype": "text/x-python",
   "name": "python",
   "nbconvert_exporter": "python",
   "pygments_lexer": "ipython3",
   "version": "3.8.5"
  }
 },
 "nbformat": 4,
 "nbformat_minor": 4
}
